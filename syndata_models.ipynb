{
 "cells": [
  {
   "cell_type": "markdown",
   "metadata": {},
   "source": [
    "Tying some things with private RAM"
   ]
  },
  {
   "cell_type": "markdown",
   "metadata": {},
   "source": [
    "# Installations"
   ]
  },
  {
   "cell_type": "code",
   "execution_count": 8,
   "metadata": {},
   "outputs": [
    {
     "name": "stderr",
     "output_type": "stream",
     "text": [
      "2023-12-12 15:58:08.588903: I tensorflow/core/platform/cpu_feature_guard.cc:193] This TensorFlow binary is optimized with oneAPI Deep Neural Network Library (oneDNN) to use the following CPU instructions in performance-critical operations:  AVX2 FMA\n",
      "To enable them in other operations, rebuild TensorFlow with the appropriate compiler flags.\n"
     ]
    }
   ],
   "source": [
    "import pandas as pd\n",
    "import numpy as np\n",
    "import matplotlib.pyplot as plt\n",
    "from matplotlib.gridspec import SubplotSpec\n",
    "import tensorflow as tf\n",
    "from tensorflow import keras\n",
    "import pickle\n",
    "import sys\n",
    "import warnings\n",
    "import os"
   ]
  },
  {
   "cell_type": "code",
   "execution_count": 9,
   "metadata": {},
   "outputs": [
    {
     "name": "stdout",
     "output_type": "stream",
     "text": [
      "Requirement already satisfied: torchaudio==0.13.1 in /Users/emmafoessing/opt/anaconda3/envs/ExEnvIAB/lib/python3.10/site-packages (0.13.1)\n",
      "Requirement already satisfied: torch==1.13.1 in /Users/emmafoessing/opt/anaconda3/envs/ExEnvIAB/lib/python3.10/site-packages (from torchaudio==0.13.1) (1.13.1)\n",
      "Requirement already satisfied: typing-extensions in /Users/emmafoessing/opt/anaconda3/envs/ExEnvIAB/lib/python3.10/site-packages (from torch==1.13.1->torchaudio==0.13.1) (4.4.0)\n",
      "Requirement already satisfied: torchdata==0.5.1 in /Users/emmafoessing/opt/anaconda3/envs/ExEnvIAB/lib/python3.10/site-packages (0.5.1)\n",
      "Requirement already satisfied: urllib3>=1.25 in /Users/emmafoessing/opt/anaconda3/envs/ExEnvIAB/lib/python3.10/site-packages (from torchdata==0.5.1) (1.26.14)\n",
      "Requirement already satisfied: requests in /Users/emmafoessing/opt/anaconda3/envs/ExEnvIAB/lib/python3.10/site-packages (from torchdata==0.5.1) (2.28.1)\n",
      "Requirement already satisfied: portalocker>=2.0.0 in /Users/emmafoessing/opt/anaconda3/envs/ExEnvIAB/lib/python3.10/site-packages (from torchdata==0.5.1) (2.8.2)\n",
      "Requirement already satisfied: torch==1.13.1 in /Users/emmafoessing/opt/anaconda3/envs/ExEnvIAB/lib/python3.10/site-packages (from torchdata==0.5.1) (1.13.1)\n",
      "Requirement already satisfied: typing-extensions in /Users/emmafoessing/opt/anaconda3/envs/ExEnvIAB/lib/python3.10/site-packages (from torch==1.13.1->torchdata==0.5.1) (4.4.0)\n",
      "Requirement already satisfied: charset-normalizer<3,>=2 in /Users/emmafoessing/opt/anaconda3/envs/ExEnvIAB/lib/python3.10/site-packages (from requests->torchdata==0.5.1) (2.0.4)\n",
      "Requirement already satisfied: idna<4,>=2.5 in /Users/emmafoessing/opt/anaconda3/envs/ExEnvIAB/lib/python3.10/site-packages (from requests->torchdata==0.5.1) (3.4)\n",
      "Requirement already satisfied: certifi>=2017.4.17 in /Users/emmafoessing/opt/anaconda3/envs/ExEnvIAB/lib/python3.10/site-packages (from requests->torchdata==0.5.1) (2022.12.7)\n",
      "Requirement already satisfied: synthcity in /Users/emmafoessing/opt/anaconda3/envs/ExEnvIAB/lib/python3.10/site-packages (0.2.9)\n",
      "Requirement already satisfied: decaf-synthetic-data>=0.1.6 in /Users/emmafoessing/opt/anaconda3/envs/ExEnvIAB/lib/python3.10/site-packages (from synthcity) (0.1.6)\n",
      "Requirement already satisfied: xgboost<2.0.0 in /Users/emmafoessing/opt/anaconda3/envs/ExEnvIAB/lib/python3.10/site-packages (from synthcity) (1.7.6)\n",
      "Requirement already satisfied: tsai in /Users/emmafoessing/opt/anaconda3/envs/ExEnvIAB/lib/python3.10/site-packages (from synthcity) (0.3.8)\n",
      "Requirement already satisfied: numpy<1.24,>=1.20 in /Users/emmafoessing/opt/anaconda3/envs/ExEnvIAB/lib/python3.10/site-packages (from synthcity) (1.23.5)\n",
      "Requirement already satisfied: opacus>=1.3 in /Users/emmafoessing/opt/anaconda3/envs/ExEnvIAB/lib/python3.10/site-packages (from synthcity) (1.4.0)\n",
      "Requirement already satisfied: arfpy in /Users/emmafoessing/opt/anaconda3/envs/ExEnvIAB/lib/python3.10/site-packages (from synthcity) (0.1.1)\n",
      "Requirement already satisfied: fflows in /Users/emmafoessing/opt/anaconda3/envs/ExEnvIAB/lib/python3.10/site-packages (from synthcity) (0.0.3)\n",
      "Requirement already satisfied: tqdm in /Users/emmafoessing/opt/anaconda3/envs/ExEnvIAB/lib/python3.10/site-packages (from synthcity) (4.64.1)\n",
      "Requirement already satisfied: pydantic<2.0 in /Users/emmafoessing/opt/anaconda3/envs/ExEnvIAB/lib/python3.10/site-packages (from synthcity) (1.10.6)\n",
      "Requirement already satisfied: loguru in /Users/emmafoessing/opt/anaconda3/envs/ExEnvIAB/lib/python3.10/site-packages (from synthcity) (0.7.2)\n",
      "Requirement already satisfied: scipy in /Users/emmafoessing/opt/anaconda3/envs/ExEnvIAB/lib/python3.10/site-packages (from synthcity) (1.9.3)\n",
      "Requirement already satisfied: optuna>=3.1 in /Users/emmafoessing/opt/anaconda3/envs/ExEnvIAB/lib/python3.10/site-packages (from synthcity) (3.5.0)\n",
      "Requirement already satisfied: be-great>=0.0.5 in /Users/emmafoessing/opt/anaconda3/envs/ExEnvIAB/lib/python3.10/site-packages (from synthcity) (0.0.7)\n",
      "Requirement already satisfied: xgbse in /Users/emmafoessing/opt/anaconda3/envs/ExEnvIAB/lib/python3.10/site-packages (from synthcity) (0.2.3)\n",
      "Requirement already satisfied: shap in /Users/emmafoessing/opt/anaconda3/envs/ExEnvIAB/lib/python3.10/site-packages (from synthcity) (0.44.0)\n",
      "Requirement already satisfied: cloudpickle in /Users/emmafoessing/opt/anaconda3/envs/ExEnvIAB/lib/python3.10/site-packages (from synthcity) (2.2.1)\n",
      "Requirement already satisfied: redis in /Users/emmafoessing/opt/anaconda3/envs/ExEnvIAB/lib/python3.10/site-packages (from synthcity) (5.0.1)\n",
      "Requirement already satisfied: lifelines!=0.27.5,>=0.27 in /Users/emmafoessing/opt/anaconda3/envs/ExEnvIAB/lib/python3.10/site-packages (from synthcity) (0.27.8)\n",
      "Requirement already satisfied: scikit-learn>=1.0 in /Users/emmafoessing/opt/anaconda3/envs/ExEnvIAB/lib/python3.10/site-packages (from synthcity) (1.2.2)\n",
      "Requirement already satisfied: nflows>=0.14 in /Users/emmafoessing/opt/anaconda3/envs/ExEnvIAB/lib/python3.10/site-packages (from synthcity) (0.14)\n",
      "Requirement already satisfied: pycox in /Users/emmafoessing/opt/anaconda3/envs/ExEnvIAB/lib/python3.10/site-packages (from synthcity) (0.2.3)\n",
      "Requirement already satisfied: monai in /Users/emmafoessing/opt/anaconda3/envs/ExEnvIAB/lib/python3.10/site-packages (from synthcity) (1.3.0)\n",
      "Requirement already satisfied: torch<2.0,>=1.10.0 in /Users/emmafoessing/opt/anaconda3/envs/ExEnvIAB/lib/python3.10/site-packages (from synthcity) (1.13.1)\n",
      "Requirement already satisfied: pgmpy in /Users/emmafoessing/opt/anaconda3/envs/ExEnvIAB/lib/python3.10/site-packages (from synthcity) (0.1.24)\n",
      "Requirement already satisfied: pykeops in /Users/emmafoessing/opt/anaconda3/envs/ExEnvIAB/lib/python3.10/site-packages (from synthcity) (2.1.2)\n",
      "Requirement already satisfied: geomloss in /Users/emmafoessing/opt/anaconda3/envs/ExEnvIAB/lib/python3.10/site-packages (from synthcity) (0.2.6)\n",
      "Requirement already satisfied: pandas<2,>=1.4 in /Users/emmafoessing/opt/anaconda3/envs/ExEnvIAB/lib/python3.10/site-packages (from synthcity) (1.5.3)\n",
      "Requirement already satisfied: accelerate>=0.20.1 in /Users/emmafoessing/opt/anaconda3/envs/ExEnvIAB/lib/python3.10/site-packages (from be-great>=0.0.5->synthcity) (0.25.0)\n",
      "Requirement already satisfied: datasets>=2.5.2 in /Users/emmafoessing/opt/anaconda3/envs/ExEnvIAB/lib/python3.10/site-packages (from be-great>=0.0.5->synthcity) (2.15.0)\n",
      "Requirement already satisfied: transformers>=4.22.1 in /Users/emmafoessing/opt/anaconda3/envs/ExEnvIAB/lib/python3.10/site-packages (from be-great>=0.0.5->synthcity) (4.35.2)\n",
      "Requirement already satisfied: networkx<3.0,>=2.0 in /Users/emmafoessing/opt/anaconda3/envs/ExEnvIAB/lib/python3.10/site-packages (from decaf-synthetic-data>=0.1.6->synthcity) (2.8.8)\n",
      "Requirement already satisfied: torchtext>=0.10 in /Users/emmafoessing/opt/anaconda3/envs/ExEnvIAB/lib/python3.10/site-packages (from decaf-synthetic-data>=0.1.6->synthcity) (0.14.1)\n",
      "Requirement already satisfied: pytorch-lightning<2.0 in /Users/emmafoessing/opt/anaconda3/envs/ExEnvIAB/lib/python3.10/site-packages (from decaf-synthetic-data>=0.1.6->synthcity) (1.9.5)\n",
      "Requirement already satisfied: autograd-gamma>=0.3 in /Users/emmafoessing/opt/anaconda3/envs/ExEnvIAB/lib/python3.10/site-packages (from lifelines!=0.27.5,>=0.27->synthcity) (0.5.0)\n",
      "Requirement already satisfied: formulaic>=0.2.2 in /Users/emmafoessing/opt/anaconda3/envs/ExEnvIAB/lib/python3.10/site-packages (from lifelines!=0.27.5,>=0.27->synthcity) (0.6.6)\n",
      "Requirement already satisfied: autograd>=1.5 in /Users/emmafoessing/opt/anaconda3/envs/ExEnvIAB/lib/python3.10/site-packages (from lifelines!=0.27.5,>=0.27->synthcity) (1.6.2)\n",
      "Requirement already satisfied: matplotlib>=3.0 in /Users/emmafoessing/opt/anaconda3/envs/ExEnvIAB/lib/python3.10/site-packages (from lifelines!=0.27.5,>=0.27->synthcity) (3.6.3)\n",
      "Requirement already satisfied: tensorboard in /Users/emmafoessing/opt/anaconda3/envs/ExEnvIAB/lib/python3.10/site-packages (from nflows>=0.14->synthcity) (2.11.2)\n",
      "Requirement already satisfied: opt-einsum>=3.3.0 in /Users/emmafoessing/opt/anaconda3/envs/ExEnvIAB/lib/python3.10/site-packages (from opacus>=1.3->synthcity) (3.3.0)\n",
      "Requirement already satisfied: alembic>=1.5.0 in /Users/emmafoessing/opt/anaconda3/envs/ExEnvIAB/lib/python3.10/site-packages (from optuna>=3.1->synthcity) (1.13.0)\n",
      "Requirement already satisfied: packaging>=20.0 in /Users/emmafoessing/opt/anaconda3/envs/ExEnvIAB/lib/python3.10/site-packages (from optuna>=3.1->synthcity) (21.3)\n",
      "Requirement already satisfied: colorlog in /Users/emmafoessing/opt/anaconda3/envs/ExEnvIAB/lib/python3.10/site-packages (from optuna>=3.1->synthcity) (6.8.0)\n",
      "Requirement already satisfied: sqlalchemy>=1.3.0 in /Users/emmafoessing/opt/anaconda3/envs/ExEnvIAB/lib/python3.10/site-packages (from optuna>=3.1->synthcity) (2.0.23)\n",
      "Requirement already satisfied: PyYAML in /Users/emmafoessing/opt/anaconda3/envs/ExEnvIAB/lib/python3.10/site-packages (from optuna>=3.1->synthcity) (6.0)\n",
      "Requirement already satisfied: python-dateutil>=2.8.1 in /Users/emmafoessing/opt/anaconda3/envs/ExEnvIAB/lib/python3.10/site-packages (from pandas<2,>=1.4->synthcity) (2.8.2)\n",
      "Requirement already satisfied: pytz>=2020.1 in /Users/emmafoessing/opt/anaconda3/envs/ExEnvIAB/lib/python3.10/site-packages (from pandas<2,>=1.4->synthcity) (2022.7)\n",
      "Requirement already satisfied: typing-extensions>=4.2.0 in /Users/emmafoessing/opt/anaconda3/envs/ExEnvIAB/lib/python3.10/site-packages (from pydantic<2.0->synthcity) (4.4.0)\n",
      "Requirement already satisfied: threadpoolctl>=2.0.0 in /Users/emmafoessing/opt/anaconda3/envs/ExEnvIAB/lib/python3.10/site-packages (from scikit-learn>=1.0->synthcity) (3.1.0)\n",
      "Requirement already satisfied: joblib>=1.1.1 in /Users/emmafoessing/opt/anaconda3/envs/ExEnvIAB/lib/python3.10/site-packages (from scikit-learn>=1.0->synthcity) (1.2.0)\n",
      "Requirement already satisfied: statsmodels in /Users/emmafoessing/opt/anaconda3/envs/ExEnvIAB/lib/python3.10/site-packages (from pgmpy->synthcity) (0.13.5)\n",
      "Requirement already satisfied: pyparsing in /Users/emmafoessing/opt/anaconda3/envs/ExEnvIAB/lib/python3.10/site-packages (from pgmpy->synthcity) (3.0.9)\n",
      "Requirement already satisfied: torchtuples>=0.2.0 in /Users/emmafoessing/opt/anaconda3/envs/ExEnvIAB/lib/python3.10/site-packages (from pycox->synthcity) (0.2.2)\n",
      "Requirement already satisfied: numba>=0.44 in /Users/emmafoessing/opt/anaconda3/envs/ExEnvIAB/lib/python3.10/site-packages (from pycox->synthcity) (0.58.1)\n",
      "Requirement already satisfied: py7zr>=0.11.3 in /Users/emmafoessing/opt/anaconda3/envs/ExEnvIAB/lib/python3.10/site-packages (from pycox->synthcity) (0.20.8)\n",
      "Requirement already satisfied: requests>=2.22.0 in /Users/emmafoessing/opt/anaconda3/envs/ExEnvIAB/lib/python3.10/site-packages (from pycox->synthcity) (2.28.1)\n",
      "Requirement already satisfied: feather-format>=0.4.0 in /Users/emmafoessing/opt/anaconda3/envs/ExEnvIAB/lib/python3.10/site-packages (from pycox->synthcity) (0.4.1)\n",
      "Requirement already satisfied: h5py>=2.9.0 in /Users/emmafoessing/opt/anaconda3/envs/ExEnvIAB/lib/python3.10/site-packages (from pycox->synthcity) (3.8.0)\n",
      "Requirement already satisfied: pybind11 in /Users/emmafoessing/opt/anaconda3/envs/ExEnvIAB/lib/python3.10/site-packages (from pykeops->synthcity) (2.11.1)\n",
      "Requirement already satisfied: keopscore==2.1.2 in /Users/emmafoessing/opt/anaconda3/envs/ExEnvIAB/lib/python3.10/site-packages (from pykeops->synthcity) (2.1.2)\n",
      "Requirement already satisfied: async-timeout>=4.0.2 in /Users/emmafoessing/opt/anaconda3/envs/ExEnvIAB/lib/python3.10/site-packages (from redis->synthcity) (4.0.3)\n",
      "Requirement already satisfied: slicer==0.0.7 in /Users/emmafoessing/opt/anaconda3/envs/ExEnvIAB/lib/python3.10/site-packages (from shap->synthcity) (0.0.7)\n",
      "Requirement already satisfied: fastai>=2.7.13 in /Users/emmafoessing/opt/anaconda3/envs/ExEnvIAB/lib/python3.10/site-packages (from tsai->synthcity) (2.7.13)\n",
      "Requirement already satisfied: pyts>=0.12.0 in /Users/emmafoessing/opt/anaconda3/envs/ExEnvIAB/lib/python3.10/site-packages (from tsai->synthcity) (0.13.0)\n",
      "Requirement already satisfied: psutil>=5.4.8 in /Users/emmafoessing/opt/anaconda3/envs/ExEnvIAB/lib/python3.10/site-packages (from tsai->synthcity) (5.9.0)\n",
      "Requirement already satisfied: imbalanced-learn>=0.11.0 in /Users/emmafoessing/opt/anaconda3/envs/ExEnvIAB/lib/python3.10/site-packages (from tsai->synthcity) (0.11.0)\n",
      "Requirement already satisfied: huggingface-hub in /Users/emmafoessing/opt/anaconda3/envs/ExEnvIAB/lib/python3.10/site-packages (from accelerate>=0.20.1->be-great>=0.0.5->synthcity) (0.19.4)\n",
      "Requirement already satisfied: safetensors>=0.3.1 in /Users/emmafoessing/opt/anaconda3/envs/ExEnvIAB/lib/python3.10/site-packages (from accelerate>=0.20.1->be-great>=0.0.5->synthcity) (0.4.1)\n",
      "Requirement already satisfied: Mako in /Users/emmafoessing/opt/anaconda3/envs/ExEnvIAB/lib/python3.10/site-packages (from alembic>=1.5.0->optuna>=3.1->synthcity) (1.3.0)\n",
      "Requirement already satisfied: future>=0.15.2 in /Users/emmafoessing/opt/anaconda3/envs/ExEnvIAB/lib/python3.10/site-packages (from autograd>=1.5->lifelines!=0.27.5,>=0.27->synthcity) (0.18.3)\n",
      "Requirement already satisfied: multiprocess in /Users/emmafoessing/opt/anaconda3/envs/ExEnvIAB/lib/python3.10/site-packages (from datasets>=2.5.2->be-great>=0.0.5->synthcity) (0.70.15)\n",
      "Requirement already satisfied: pyarrow-hotfix in /Users/emmafoessing/opt/anaconda3/envs/ExEnvIAB/lib/python3.10/site-packages (from datasets>=2.5.2->be-great>=0.0.5->synthcity) (0.6)\n",
      "Requirement already satisfied: xxhash in /Users/emmafoessing/opt/anaconda3/envs/ExEnvIAB/lib/python3.10/site-packages (from datasets>=2.5.2->be-great>=0.0.5->synthcity) (3.4.1)\n",
      "Requirement already satisfied: pyarrow>=8.0.0 in /Users/emmafoessing/opt/anaconda3/envs/ExEnvIAB/lib/python3.10/site-packages (from datasets>=2.5.2->be-great>=0.0.5->synthcity) (11.0.0)\n",
      "Requirement already satisfied: dill<0.3.8,>=0.3.0 in /Users/emmafoessing/opt/anaconda3/envs/ExEnvIAB/lib/python3.10/site-packages (from datasets>=2.5.2->be-great>=0.0.5->synthcity) (0.3.7)\n",
      "Requirement already satisfied: aiohttp in /Users/emmafoessing/opt/anaconda3/envs/ExEnvIAB/lib/python3.10/site-packages (from datasets>=2.5.2->be-great>=0.0.5->synthcity) (3.9.1)\n",
      "Requirement already satisfied: fsspec[http]<=2023.10.0,>=2023.1.0 in /Users/emmafoessing/opt/anaconda3/envs/ExEnvIAB/lib/python3.10/site-packages (from datasets>=2.5.2->be-great>=0.0.5->synthcity) (2023.10.0)\n",
      "Requirement already satisfied: pip in /Users/emmafoessing/opt/anaconda3/envs/ExEnvIAB/lib/python3.10/site-packages (from fastai>=2.7.13->tsai->synthcity) (23.0.1)\n",
      "Requirement already satisfied: pillow>=9.0.0 in /Users/emmafoessing/opt/anaconda3/envs/ExEnvIAB/lib/python3.10/site-packages (from fastai>=2.7.13->tsai->synthcity) (9.4.0)\n",
      "Requirement already satisfied: torchvision>=0.11 in /Users/emmafoessing/opt/anaconda3/envs/ExEnvIAB/lib/python3.10/site-packages (from fastai>=2.7.13->tsai->synthcity) (0.14.1)\n",
      "Requirement already satisfied: fastcore<1.6,>=1.5.29 in /Users/emmafoessing/opt/anaconda3/envs/ExEnvIAB/lib/python3.10/site-packages (from fastai>=2.7.13->tsai->synthcity) (1.5.29)\n",
      "Requirement already satisfied: spacy<4 in /Users/emmafoessing/opt/anaconda3/envs/ExEnvIAB/lib/python3.10/site-packages (from fastai>=2.7.13->tsai->synthcity) (3.7.2)\n",
      "Requirement already satisfied: fastdownload<2,>=0.0.5 in /Users/emmafoessing/opt/anaconda3/envs/ExEnvIAB/lib/python3.10/site-packages (from fastai>=2.7.13->tsai->synthcity) (0.0.7)\n",
      "Requirement already satisfied: fastprogress>=0.2.4 in /Users/emmafoessing/opt/anaconda3/envs/ExEnvIAB/lib/python3.10/site-packages (from fastai>=2.7.13->tsai->synthcity) (1.0.3)\n",
      "Requirement already satisfied: astor>=0.8 in /Users/emmafoessing/opt/anaconda3/envs/ExEnvIAB/lib/python3.10/site-packages (from formulaic>=0.2.2->lifelines!=0.27.5,>=0.27->synthcity) (0.8.1)\n",
      "Requirement already satisfied: wrapt>=1.0 in /Users/emmafoessing/opt/anaconda3/envs/ExEnvIAB/lib/python3.10/site-packages (from formulaic>=0.2.2->lifelines!=0.27.5,>=0.27->synthcity) (1.15.0)\n",
      "Requirement already satisfied: interface-meta>=1.2.0 in /Users/emmafoessing/opt/anaconda3/envs/ExEnvIAB/lib/python3.10/site-packages (from formulaic>=0.2.2->lifelines!=0.27.5,>=0.27->synthcity) (1.3.0)\n",
      "Requirement already satisfied: contourpy>=1.0.1 in /Users/emmafoessing/opt/anaconda3/envs/ExEnvIAB/lib/python3.10/site-packages (from matplotlib>=3.0->lifelines!=0.27.5,>=0.27->synthcity) (1.0.7)\n",
      "Requirement already satisfied: fonttools>=4.22.0 in /Users/emmafoessing/opt/anaconda3/envs/ExEnvIAB/lib/python3.10/site-packages (from matplotlib>=3.0->lifelines!=0.27.5,>=0.27->synthcity) (4.39.0)\n",
      "Requirement already satisfied: kiwisolver>=1.0.1 in /Users/emmafoessing/opt/anaconda3/envs/ExEnvIAB/lib/python3.10/site-packages (from matplotlib>=3.0->lifelines!=0.27.5,>=0.27->synthcity) (1.4.4)\n",
      "Requirement already satisfied: cycler>=0.10 in /Users/emmafoessing/opt/anaconda3/envs/ExEnvIAB/lib/python3.10/site-packages (from matplotlib>=3.0->lifelines!=0.27.5,>=0.27->synthcity) (0.11.0)\n",
      "Requirement already satisfied: llvmlite<0.42,>=0.41.0dev0 in /Users/emmafoessing/opt/anaconda3/envs/ExEnvIAB/lib/python3.10/site-packages (from numba>=0.44->pycox->synthcity) (0.41.1)\n",
      "Requirement already satisfied: inflate64<1.1.0,>=1.0.0 in /Users/emmafoessing/opt/anaconda3/envs/ExEnvIAB/lib/python3.10/site-packages (from py7zr>=0.11.3->pycox->synthcity) (1.0.0)\n",
      "Requirement already satisfied: texttable in /Users/emmafoessing/opt/anaconda3/envs/ExEnvIAB/lib/python3.10/site-packages (from py7zr>=0.11.3->pycox->synthcity) (1.7.0)\n",
      "Requirement already satisfied: pycryptodomex>=3.16.0 in /Users/emmafoessing/opt/anaconda3/envs/ExEnvIAB/lib/python3.10/site-packages (from py7zr>=0.11.3->pycox->synthcity) (3.19.0)\n",
      "Requirement already satisfied: multivolumefile>=0.2.3 in /Users/emmafoessing/opt/anaconda3/envs/ExEnvIAB/lib/python3.10/site-packages (from py7zr>=0.11.3->pycox->synthcity) (0.2.3)\n",
      "Requirement already satisfied: pyppmd<1.2.0,>=1.1.0 in /Users/emmafoessing/opt/anaconda3/envs/ExEnvIAB/lib/python3.10/site-packages (from py7zr>=0.11.3->pycox->synthcity) (1.1.0)\n",
      "Requirement already satisfied: pybcj<1.1.0,>=1.0.0 in /Users/emmafoessing/opt/anaconda3/envs/ExEnvIAB/lib/python3.10/site-packages (from py7zr>=0.11.3->pycox->synthcity) (1.0.2)\n",
      "Requirement already satisfied: pyzstd>=0.15.9 in /Users/emmafoessing/opt/anaconda3/envs/ExEnvIAB/lib/python3.10/site-packages (from py7zr>=0.11.3->pycox->synthcity) (0.15.9)\n",
      "Requirement already satisfied: brotli>=1.1.0 in /Users/emmafoessing/opt/anaconda3/envs/ExEnvIAB/lib/python3.10/site-packages (from py7zr>=0.11.3->pycox->synthcity) (1.1.0)\n",
      "Requirement already satisfied: six>=1.5 in /Users/emmafoessing/opt/anaconda3/envs/ExEnvIAB/lib/python3.10/site-packages (from python-dateutil>=2.8.1->pandas<2,>=1.4->synthcity) (1.16.0)\n",
      "Requirement already satisfied: lightning-utilities>=0.6.0.post0 in /Users/emmafoessing/opt/anaconda3/envs/ExEnvIAB/lib/python3.10/site-packages (from pytorch-lightning<2.0->decaf-synthetic-data>=0.1.6->synthcity) (0.10.0)\n",
      "Requirement already satisfied: torchmetrics>=0.7.0 in /Users/emmafoessing/opt/anaconda3/envs/ExEnvIAB/lib/python3.10/site-packages (from pytorch-lightning<2.0->decaf-synthetic-data>=0.1.6->synthcity) (1.2.1)\n",
      "Requirement already satisfied: certifi>=2017.4.17 in /Users/emmafoessing/opt/anaconda3/envs/ExEnvIAB/lib/python3.10/site-packages (from requests>=2.22.0->pycox->synthcity) (2022.12.7)\n",
      "Requirement already satisfied: charset-normalizer<3,>=2 in /Users/emmafoessing/opt/anaconda3/envs/ExEnvIAB/lib/python3.10/site-packages (from requests>=2.22.0->pycox->synthcity) (2.0.4)\n",
      "Requirement already satisfied: idna<4,>=2.5 in /Users/emmafoessing/opt/anaconda3/envs/ExEnvIAB/lib/python3.10/site-packages (from requests>=2.22.0->pycox->synthcity) (3.4)\n",
      "Requirement already satisfied: urllib3<1.27,>=1.21.1 in /Users/emmafoessing/opt/anaconda3/envs/ExEnvIAB/lib/python3.10/site-packages (from requests>=2.22.0->pycox->synthcity) (1.26.14)\n",
      "Requirement already satisfied: greenlet!=0.4.17 in /Users/emmafoessing/opt/anaconda3/envs/ExEnvIAB/lib/python3.10/site-packages (from sqlalchemy>=1.3.0->optuna>=3.1->synthcity) (3.0.2)\n",
      "Requirement already satisfied: filelock in /Users/emmafoessing/opt/anaconda3/envs/ExEnvIAB/lib/python3.10/site-packages (from transformers>=4.22.1->be-great>=0.0.5->synthcity) (3.13.1)\n",
      "Requirement already satisfied: regex!=2019.12.17 in /Users/emmafoessing/opt/anaconda3/envs/ExEnvIAB/lib/python3.10/site-packages (from transformers>=4.22.1->be-great>=0.0.5->synthcity) (2023.10.3)\n",
      "Requirement already satisfied: tokenizers<0.19,>=0.14 in /Users/emmafoessing/opt/anaconda3/envs/ExEnvIAB/lib/python3.10/site-packages (from transformers>=4.22.1->be-great>=0.0.5->synthcity) (0.15.0)\n",
      "Requirement already satisfied: patsy>=0.5.2 in /Users/emmafoessing/opt/anaconda3/envs/ExEnvIAB/lib/python3.10/site-packages (from statsmodels->pgmpy->synthcity) (0.5.3)\n",
      "Requirement already satisfied: grpcio>=1.24.3 in /Users/emmafoessing/opt/anaconda3/envs/ExEnvIAB/lib/python3.10/site-packages (from tensorboard->nflows>=0.14->synthcity) (1.51.3)\n",
      "Requirement already satisfied: wheel>=0.26 in /Users/emmafoessing/opt/anaconda3/envs/ExEnvIAB/lib/python3.10/site-packages (from tensorboard->nflows>=0.14->synthcity) (0.38.4)\n",
      "Requirement already satisfied: werkzeug>=1.0.1 in /Users/emmafoessing/opt/anaconda3/envs/ExEnvIAB/lib/python3.10/site-packages (from tensorboard->nflows>=0.14->synthcity) (2.2.3)\n",
      "Requirement already satisfied: protobuf<4,>=3.9.2 in /Users/emmafoessing/opt/anaconda3/envs/ExEnvIAB/lib/python3.10/site-packages (from tensorboard->nflows>=0.14->synthcity) (3.19.6)\n",
      "Requirement already satisfied: setuptools>=41.0.0 in /Users/emmafoessing/opt/anaconda3/envs/ExEnvIAB/lib/python3.10/site-packages (from tensorboard->nflows>=0.14->synthcity) (65.6.3)\n",
      "Requirement already satisfied: absl-py>=0.4 in /Users/emmafoessing/opt/anaconda3/envs/ExEnvIAB/lib/python3.10/site-packages (from tensorboard->nflows>=0.14->synthcity) (1.4.0)\n",
      "Requirement already satisfied: google-auth-oauthlib<0.5,>=0.4.1 in /Users/emmafoessing/opt/anaconda3/envs/ExEnvIAB/lib/python3.10/site-packages (from tensorboard->nflows>=0.14->synthcity) (0.4.6)\n",
      "Requirement already satisfied: tensorboard-data-server<0.7.0,>=0.6.0 in /Users/emmafoessing/opt/anaconda3/envs/ExEnvIAB/lib/python3.10/site-packages (from tensorboard->nflows>=0.14->synthcity) (0.6.1)\n",
      "Requirement already satisfied: tensorboard-plugin-wit>=1.6.0 in /Users/emmafoessing/opt/anaconda3/envs/ExEnvIAB/lib/python3.10/site-packages (from tensorboard->nflows>=0.14->synthcity) (1.8.1)\n",
      "Requirement already satisfied: markdown>=2.6.8 in /Users/emmafoessing/opt/anaconda3/envs/ExEnvIAB/lib/python3.10/site-packages (from tensorboard->nflows>=0.14->synthcity) (3.4.1)\n",
      "Requirement already satisfied: google-auth<3,>=1.6.3 in /Users/emmafoessing/opt/anaconda3/envs/ExEnvIAB/lib/python3.10/site-packages (from tensorboard->nflows>=0.14->synthcity) (2.16.2)\n",
      "Requirement already satisfied: aiosignal>=1.1.2 in /Users/emmafoessing/opt/anaconda3/envs/ExEnvIAB/lib/python3.10/site-packages (from aiohttp->datasets>=2.5.2->be-great>=0.0.5->synthcity) (1.3.1)\n",
      "Requirement already satisfied: frozenlist>=1.1.1 in /Users/emmafoessing/opt/anaconda3/envs/ExEnvIAB/lib/python3.10/site-packages (from aiohttp->datasets>=2.5.2->be-great>=0.0.5->synthcity) (1.4.0)\n",
      "Requirement already satisfied: yarl<2.0,>=1.0 in /Users/emmafoessing/opt/anaconda3/envs/ExEnvIAB/lib/python3.10/site-packages (from aiohttp->datasets>=2.5.2->be-great>=0.0.5->synthcity) (1.9.4)\n",
      "Requirement already satisfied: multidict<7.0,>=4.5 in /Users/emmafoessing/opt/anaconda3/envs/ExEnvIAB/lib/python3.10/site-packages (from aiohttp->datasets>=2.5.2->be-great>=0.0.5->synthcity) (6.0.4)\n",
      "Requirement already satisfied: attrs>=17.3.0 in /Users/emmafoessing/opt/anaconda3/envs/ExEnvIAB/lib/python3.10/site-packages (from aiohttp->datasets>=2.5.2->be-great>=0.0.5->synthcity) (22.1.0)\n",
      "Requirement already satisfied: cachetools<6.0,>=2.0.0 in /Users/emmafoessing/opt/anaconda3/envs/ExEnvIAB/lib/python3.10/site-packages (from google-auth<3,>=1.6.3->tensorboard->nflows>=0.14->synthcity) (5.3.0)\n",
      "Requirement already satisfied: pyasn1-modules>=0.2.1 in /Users/emmafoessing/opt/anaconda3/envs/ExEnvIAB/lib/python3.10/site-packages (from google-auth<3,>=1.6.3->tensorboard->nflows>=0.14->synthcity) (0.2.8)\n",
      "Requirement already satisfied: rsa<5,>=3.1.4 in /Users/emmafoessing/opt/anaconda3/envs/ExEnvIAB/lib/python3.10/site-packages (from google-auth<3,>=1.6.3->tensorboard->nflows>=0.14->synthcity) (4.9)\n",
      "Requirement already satisfied: requests-oauthlib>=0.7.0 in /Users/emmafoessing/opt/anaconda3/envs/ExEnvIAB/lib/python3.10/site-packages (from google-auth-oauthlib<0.5,>=0.4.1->tensorboard->nflows>=0.14->synthcity) (1.3.1)\n",
      "Requirement already satisfied: srsly<3.0.0,>=2.4.3 in /Users/emmafoessing/opt/anaconda3/envs/ExEnvIAB/lib/python3.10/site-packages (from spacy<4->fastai>=2.7.13->tsai->synthcity) (2.4.8)\n",
      "Requirement already satisfied: smart-open<7.0.0,>=5.2.1 in /Users/emmafoessing/opt/anaconda3/envs/ExEnvIAB/lib/python3.10/site-packages (from spacy<4->fastai>=2.7.13->tsai->synthcity) (6.4.0)\n",
      "Requirement already satisfied: cymem<2.1.0,>=2.0.2 in /Users/emmafoessing/opt/anaconda3/envs/ExEnvIAB/lib/python3.10/site-packages (from spacy<4->fastai>=2.7.13->tsai->synthcity) (2.0.8)\n",
      "Requirement already satisfied: weasel<0.4.0,>=0.1.0 in /Users/emmafoessing/opt/anaconda3/envs/ExEnvIAB/lib/python3.10/site-packages (from spacy<4->fastai>=2.7.13->tsai->synthcity) (0.3.4)\n",
      "Requirement already satisfied: spacy-loggers<2.0.0,>=1.0.0 in /Users/emmafoessing/opt/anaconda3/envs/ExEnvIAB/lib/python3.10/site-packages (from spacy<4->fastai>=2.7.13->tsai->synthcity) (1.0.5)\n",
      "Requirement already satisfied: preshed<3.1.0,>=3.0.2 in /Users/emmafoessing/opt/anaconda3/envs/ExEnvIAB/lib/python3.10/site-packages (from spacy<4->fastai>=2.7.13->tsai->synthcity) (3.0.9)\n",
      "Requirement already satisfied: thinc<8.3.0,>=8.1.8 in /Users/emmafoessing/opt/anaconda3/envs/ExEnvIAB/lib/python3.10/site-packages (from spacy<4->fastai>=2.7.13->tsai->synthcity) (8.2.1)\n",
      "Requirement already satisfied: langcodes<4.0.0,>=3.2.0 in /Users/emmafoessing/opt/anaconda3/envs/ExEnvIAB/lib/python3.10/site-packages (from spacy<4->fastai>=2.7.13->tsai->synthcity) (3.3.0)\n",
      "Requirement already satisfied: murmurhash<1.1.0,>=0.28.0 in /Users/emmafoessing/opt/anaconda3/envs/ExEnvIAB/lib/python3.10/site-packages (from spacy<4->fastai>=2.7.13->tsai->synthcity) (1.0.10)\n",
      "Requirement already satisfied: spacy-legacy<3.1.0,>=3.0.11 in /Users/emmafoessing/opt/anaconda3/envs/ExEnvIAB/lib/python3.10/site-packages (from spacy<4->fastai>=2.7.13->tsai->synthcity) (3.0.12)\n",
      "Requirement already satisfied: jinja2 in /Users/emmafoessing/opt/anaconda3/envs/ExEnvIAB/lib/python3.10/site-packages (from spacy<4->fastai>=2.7.13->tsai->synthcity) (3.1.2)\n",
      "Requirement already satisfied: catalogue<2.1.0,>=2.0.6 in /Users/emmafoessing/opt/anaconda3/envs/ExEnvIAB/lib/python3.10/site-packages (from spacy<4->fastai>=2.7.13->tsai->synthcity) (2.0.10)\n",
      "Requirement already satisfied: typer<0.10.0,>=0.3.0 in /Users/emmafoessing/opt/anaconda3/envs/ExEnvIAB/lib/python3.10/site-packages (from spacy<4->fastai>=2.7.13->tsai->synthcity) (0.9.0)\n",
      "Requirement already satisfied: wasabi<1.2.0,>=0.9.1 in /Users/emmafoessing/opt/anaconda3/envs/ExEnvIAB/lib/python3.10/site-packages (from spacy<4->fastai>=2.7.13->tsai->synthcity) (1.1.2)\n",
      "Requirement already satisfied: MarkupSafe>=2.1.1 in /Users/emmafoessing/opt/anaconda3/envs/ExEnvIAB/lib/python3.10/site-packages (from werkzeug>=1.0.1->tensorboard->nflows>=0.14->synthcity) (2.1.1)\n",
      "Requirement already satisfied: pyasn1<0.5.0,>=0.4.6 in /Users/emmafoessing/opt/anaconda3/envs/ExEnvIAB/lib/python3.10/site-packages (from pyasn1-modules>=0.2.1->google-auth<3,>=1.6.3->tensorboard->nflows>=0.14->synthcity) (0.4.8)\n",
      "Requirement already satisfied: oauthlib>=3.0.0 in /Users/emmafoessing/opt/anaconda3/envs/ExEnvIAB/lib/python3.10/site-packages (from requests-oauthlib>=0.7.0->google-auth-oauthlib<0.5,>=0.4.1->tensorboard->nflows>=0.14->synthcity) (3.2.2)\n",
      "Requirement already satisfied: confection<1.0.0,>=0.0.1 in /Users/emmafoessing/opt/anaconda3/envs/ExEnvIAB/lib/python3.10/site-packages (from thinc<8.3.0,>=8.1.8->spacy<4->fastai>=2.7.13->tsai->synthcity) (0.1.4)\n",
      "Requirement already satisfied: blis<0.8.0,>=0.7.8 in /Users/emmafoessing/opt/anaconda3/envs/ExEnvIAB/lib/python3.10/site-packages (from thinc<8.3.0,>=8.1.8->spacy<4->fastai>=2.7.13->tsai->synthcity) (0.7.11)\n",
      "Requirement already satisfied: click<9.0.0,>=7.1.1 in /Users/emmafoessing/opt/anaconda3/envs/ExEnvIAB/lib/python3.10/site-packages (from typer<0.10.0,>=0.3.0->spacy<4->fastai>=2.7.13->tsai->synthcity) (8.1.3)\n",
      "Requirement already satisfied: cloudpathlib<0.17.0,>=0.7.0 in /Users/emmafoessing/opt/anaconda3/envs/ExEnvIAB/lib/python3.10/site-packages (from weasel<0.4.0,>=0.1.0->spacy<4->fastai>=2.7.13->tsai->synthcity) (0.16.0)\n"
     ]
    }
   ],
   "source": [
    "!pip install torchaudio==0.13.1\n",
    "!pip install torchdata==0.5.1\n",
    "!pip install synthcity"
   ]
  },
  {
   "cell_type": "code",
   "execution_count": 10,
   "metadata": {},
   "outputs": [
    {
     "name": "stdout",
     "output_type": "stream",
     "text": [
      "Name: synthcity\n",
      "Version: 0.2.9\n",
      "Summary: Synthetic data generator and evaluator!\n",
      "Home-page: UNKNOWN\n",
      "Author: \n",
      "Author-email: \n",
      "License: Apache-2.0 license\n",
      "Location: /Users/emmafoessing/opt/anaconda3/envs/ExEnvIAB/lib/python3.10/site-packages\n",
      "Requires: arfpy, be-great, cloudpickle, decaf-synthetic-data, fflows, geomloss, lifelines, loguru, monai, nflows, numpy, opacus, optuna, pandas, pgmpy, pycox, pydantic, pykeops, redis, scikit-learn, scipy, shap, torch, tqdm, tsai, xgboost, xgbse\n",
      "Required-by: \n"
     ]
    }
   ],
   "source": [
    "# import and show version (bc of frequent changes, can track which version code worked with)\n",
    "import synthcity\n",
    "from synthcity.utils.serialization import save_to_file, load_from_file\n",
    "\n",
    "!pip show synthcity"
   ]
  },
  {
   "cell_type": "code",
   "execution_count": 11,
   "metadata": {},
   "outputs": [
    {
     "name": "stdout",
     "output_type": "stream",
     "text": [
      "Python 3.10.9\n"
     ]
    }
   ],
   "source": [
    "!python --version"
   ]
  },
  {
   "cell_type": "code",
   "execution_count": 12,
   "metadata": {},
   "outputs": [
    {
     "name": "stderr",
     "output_type": "stream",
     "text": [
      "<stdin>:1:10: fatal error: 'omp.h' file not found\n",
      "#include <omp.h>\n",
      "         ^~~~~~~\n",
      "1 error generated.\n"
     ]
    },
    {
     "name": "stdout",
     "output_type": "stream",
     "text": [
      "[KeOps] Warning : omp.h header is not in the path, disabling OpenMP.\n",
      "[KeOps] Warning : Cuda libraries were not detected on the system ; using cpu only mode\n"
     ]
    },
    {
     "name": "stderr",
     "output_type": "stream",
     "text": [
      "[2023-12-12T15:59:35.520835+0100][66787][CRITICAL] module disabled: /Users/emmafoessing/opt/anaconda3/envs/ExEnvIAB/lib/python3.10/site-packages/synthcity/plugins/generic/plugin_goggle.py\n"
     ]
    },
    {
     "data": {
      "text/plain": [
       "['nflow',\n",
       " 'dummy_sampler',\n",
       " 'great',\n",
       " 'aim',\n",
       " 'rtvae',\n",
       " 'privbayes',\n",
       " 'tvae',\n",
       " 'adsgan',\n",
       " 'dpgan',\n",
       " 'arf',\n",
       " 'ddpm',\n",
       " 'bayesian_network',\n",
       " 'uniform_sampler',\n",
       " 'decaf',\n",
       " 'ctgan',\n",
       " 'pategan',\n",
       " 'marginal_distributions']"
      ]
     },
     "execution_count": 12,
     "metadata": {},
     "output_type": "execute_result"
    }
   ],
   "source": [
    "# plugins for model generation\n",
    "from synthcity.plugins import Plugins\n",
    "Plugins(categories=[\"generic\", \"privacy\"]).list()"
   ]
  },
  {
   "cell_type": "markdown",
   "metadata": {},
   "source": [
    "CPS Data"
   ]
  },
  {
   "cell_type": "code",
   "execution_count": 13,
   "metadata": {},
   "outputs": [],
   "source": [
    "# cpsdata\n",
    "cpspop = pd.read_csv(\"cpspop.csv\")"
   ]
  },
  {
   "cell_type": "code",
   "execution_count": 14,
   "metadata": {},
   "outputs": [
    {
     "name": "stderr",
     "output_type": "stream",
     "text": [
      "[2023-12-12T15:59:41.337090+0100][66787][CRITICAL] module disabled: /Users/emmafoessing/opt/anaconda3/envs/ExEnvIAB/lib/python3.10/site-packages/synthcity/plugins/generic/plugin_goggle.py\n",
      "[2023-12-12T15:59:41.337090+0100][66787][CRITICAL] module disabled: /Users/emmafoessing/opt/anaconda3/envs/ExEnvIAB/lib/python3.10/site-packages/synthcity/plugins/generic/plugin_goggle.py\n",
      "100%|██████████| 9/9 [03:32<00:00, 23.62s/it]\n"
     ]
    },
    {
     "ename": "",
     "evalue": "",
     "output_type": "error",
     "traceback": [
      "\u001b[1;31mThe Kernel crashed while executing code in the the current cell or a previous cell. Please review the code in the cell(s) to identify a possible cause of the failure. Click <a href='https://aka.ms/vscodeJupyterKernelCrash'>here</a> for more info. View Jupyter <a href='command:jupyter.viewOutput'>log</a> for further details."
     ]
    }
   ],
   "source": [
    "syn_model_privbayes = Plugins().get(\"privbayes\")\n",
    "syn_model_privbayes.fit(cpspop)"
   ]
  },
  {
   "cell_type": "code",
   "execution_count": null,
   "metadata": {},
   "outputs": [],
   "source": [
    "import torch"
   ]
  },
  {
   "cell_type": "code",
   "execution_count": null,
   "metadata": {},
   "outputs": [],
   "source": [
    "def get_device(cuda_preference=True):\n",
    "    \"\"\"Gets pytorch device object. If cuda_preference=True and \n",
    "        cuda is available on your system, returns a cuda device.\n",
    "    \n",
    "    Args:\n",
    "        cuda_preference: bool, default True\n",
    "            Set to true if you would like to get a cuda device\n",
    "            \n",
    "    Returns: pytorch device object\n",
    "            Pytorch device\n",
    "    \"\"\"\n",
    "    \n",
    "    print('cuda available:', torch.cuda.is_available(), \n",
    "          '; cudnn available:', torch.backends.cudnn.is_available(),\n",
    "          '; num devices:', torch.cuda.device_count())\n",
    "    \n",
    "    use_cuda = False if not cuda_preference else torch.cuda.is_available()\n",
    "    device = torch.device('cuda:0' if use_cuda else 'cpu')\n",
    "    device_name = torch.cuda.get_device_name(device) if use_cuda else 'cpu'\n",
    "    print('Using device', device_name)\n",
    "    return device"
   ]
  },
  {
   "cell_type": "code",
   "execution_count": null,
   "metadata": {},
   "outputs": [
    {
     "name": "stdout",
     "output_type": "stream",
     "text": [
      "cuda available: False ; cudnn available: False ; num devices: 0\n",
      "Using device cpu\n"
     ]
    }
   ],
   "source": [
    "# look for GPU\n",
    "device = get_device()\n",
    "#set_device()"
   ]
  },
  {
   "cell_type": "code",
   "execution_count": null,
   "metadata": {},
   "outputs": [],
   "source": []
  }
 ],
 "metadata": {
  "kernelspec": {
   "display_name": "Python 3",
   "language": "python",
   "name": "python3"
  },
  "language_info": {
   "codemirror_mode": {
    "name": "ipython",
    "version": 3
   },
   "file_extension": ".py",
   "mimetype": "text/x-python",
   "name": "python",
   "nbconvert_exporter": "python",
   "pygments_lexer": "ipython3",
   "version": "3.10.9"
  },
  "orig_nbformat": 4
 },
 "nbformat": 4,
 "nbformat_minor": 2
}
