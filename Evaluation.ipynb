{
 "cells": [
  {
   "cell_type": "markdown",
   "metadata": {},
   "source": [
    "# Evaluation script"
   ]
  },
  {
   "cell_type": "markdown",
   "metadata": {},
   "source": [
    "## Load packages"
   ]
  },
  {
   "cell_type": "code",
   "execution_count": 1,
   "metadata": {
    "execution": {
     "iopub.execute_input": "2024-10-04T10:18:54.564861Z",
     "iopub.status.busy": "2024-10-04T10:18:54.560972Z",
     "iopub.status.idle": "2024-10-04T10:18:55.907207Z",
     "shell.execute_reply": "2024-10-04T10:18:55.904133Z"
    },
    "vscode": {
     "languageId": "r"
    }
   },
   "outputs": [
    {
     "name": "stderr",
     "output_type": "stream",
     "text": [
      "here() starts at /home/uni08/hpc/emma.foessing01/u11969/Master-Thesis\n",
      "\n"
     ]
    },
    {
     "name": "stderr",
     "output_type": "stream",
     "text": [
      "\n",
      "Attaching package: ‘dplyr’\n",
      "\n",
      "\n"
     ]
    },
    {
     "name": "stderr",
     "output_type": "stream",
     "text": [
      "The following objects are masked from ‘package:stats’:\n",
      "\n",
      "    filter, lag\n",
      "\n",
      "\n"
     ]
    },
    {
     "name": "stderr",
     "output_type": "stream",
     "text": [
      "The following objects are masked from ‘package:base’:\n",
      "\n",
      "    intersect, setdiff, setequal, union\n",
      "\n",
      "\n"
     ]
    },
    {
     "data": {
      "text/html": [
       "<ol>\n",
       "\t<li><style>\n",
       ".list-inline {list-style: none; margin:0; padding: 0}\n",
       ".list-inline>li {display: inline-block}\n",
       ".list-inline>li:not(:last-child)::after {content: \"\\00b7\"; padding: 0 .5ex}\n",
       "</style>\n",
       "<ol class=list-inline><li>'here'</li><li>'stats'</li><li>'graphics'</li><li>'grDevices'</li><li>'utils'</li><li>'datasets'</li><li>'methods'</li><li>'base'</li></ol>\n",
       "</li>\n",
       "\t<li><style>\n",
       ".list-inline {list-style: none; margin:0; padding: 0}\n",
       ".list-inline>li {display: inline-block}\n",
       ".list-inline>li:not(:last-child)::after {content: \"\\00b7\"; padding: 0 .5ex}\n",
       "</style>\n",
       "<ol class=list-inline><li>'dplyr'</li><li>'here'</li><li>'stats'</li><li>'graphics'</li><li>'grDevices'</li><li>'utils'</li><li>'datasets'</li><li>'methods'</li><li>'base'</li></ol>\n",
       "</li>\n",
       "</ol>\n"
      ],
      "text/latex": [
       "\\begin{enumerate}\n",
       "\\item \\begin{enumerate*}\n",
       "\\item 'here'\n",
       "\\item 'stats'\n",
       "\\item 'graphics'\n",
       "\\item 'grDevices'\n",
       "\\item 'utils'\n",
       "\\item 'datasets'\n",
       "\\item 'methods'\n",
       "\\item 'base'\n",
       "\\end{enumerate*}\n",
       "\n",
       "\\item \\begin{enumerate*}\n",
       "\\item 'dplyr'\n",
       "\\item 'here'\n",
       "\\item 'stats'\n",
       "\\item 'graphics'\n",
       "\\item 'grDevices'\n",
       "\\item 'utils'\n",
       "\\item 'datasets'\n",
       "\\item 'methods'\n",
       "\\item 'base'\n",
       "\\end{enumerate*}\n",
       "\n",
       "\\end{enumerate}\n"
      ],
      "text/markdown": [
       "1. 1. 'here'\n",
       "2. 'stats'\n",
       "3. 'graphics'\n",
       "4. 'grDevices'\n",
       "5. 'utils'\n",
       "6. 'datasets'\n",
       "7. 'methods'\n",
       "8. 'base'\n",
       "\n",
       "\n",
       "\n",
       "2. 1. 'dplyr'\n",
       "2. 'here'\n",
       "3. 'stats'\n",
       "4. 'graphics'\n",
       "5. 'grDevices'\n",
       "6. 'utils'\n",
       "7. 'datasets'\n",
       "8. 'methods'\n",
       "9. 'base'\n",
       "\n",
       "\n",
       "\n",
       "\n",
       "\n"
      ],
      "text/plain": [
       "[[1]]\n",
       "[1] \"here\"      \"stats\"     \"graphics\"  \"grDevices\" \"utils\"     \"datasets\" \n",
       "[7] \"methods\"   \"base\"     \n",
       "\n",
       "[[2]]\n",
       "[1] \"dplyr\"     \"here\"      \"stats\"     \"graphics\"  \"grDevices\" \"utils\"    \n",
       "[7] \"datasets\"  \"methods\"   \"base\"     \n"
      ]
     },
     "metadata": {},
     "output_type": "display_data"
    }
   ],
   "source": [
    "Sys.setenv(\"PKG_CXXFLAGS\"=\"-std=c++14\")\n",
    "\n",
    "# List of required packages\n",
    "list_of_packages <- c(\"here\", \"dplyr\")\n",
    "\n",
    "# Function to load packages and handle errors\n",
    "load_if_installed <- function(p) {\n",
    "  tryCatch({\n",
    "    library(p, character.only = TRUE)\n",
    "  }, error = function(e) {\n",
    "    message(sprintf(\"Package '%s' is not installed.\", p))\n",
    "  })\n",
    "}\n",
    "\n",
    "# Load all required packages\n",
    "lapply(list_of_packages, load_if_installed)"
   ]
  },
  {
   "cell_type": "markdown",
   "metadata": {},
   "source": [
    "## Load results"
   ]
  },
  {
   "cell_type": "code",
   "execution_count": null,
   "metadata": {
    "execution": {
     "iopub.execute_input": "2024-10-04T10:18:55.949738Z",
     "iopub.status.busy": "2024-10-04T10:18:55.912261Z",
     "iopub.status.idle": "2024-10-04T10:18:56.060842Z",
     "shell.execute_reply": "2024-10-04T10:18:56.056917Z"
    },
    "vscode": {
     "languageId": "r"
    }
   },
   "outputs": [],
   "source": [
    "datanames <- c(\"cps\", \"adult\")\n",
    "modelnames <- c(\"orig\", \"cart\", \"rf\", \"bn\", \"xgb\", \"svm\")\n",
    "\n",
    "loaded_data <- list()\n",
    "\n",
    "# Loop through all combinations of dataname and modelname\n",
    "for (dataname in datanames) {\n",
    "  for (modelname in modelnames) {\n",
    "    # Construct the file path\n",
    "    file_path <- paste0(here(), \"/results/\", dataname, \"_\", modelname, \"_res.RData\")\n",
    "    \n",
    "    # Check if the file exists\n",
    "    if (file.exists(file_path)) {\n",
    "      # Load the file if it exists\n",
    "      load(file = file_path)\n",
    "      \n",
    "      # Assign a names\n",
    "      loaded_data[[paste0(dataname, \"_\", modelname)]] <- get(ls()[1])\n",
    "      \n",
    "      cat(\"Loaded data for:\", dataname, modelname, \"\\n\")\n",
    "    } else {\n",
    "      # Print message if the file does not exist\n",
    "      cat(\"Data does not exist for:\", dataname, modelname, \"\\n\")\n",
    "    }\n",
    "  }\n",
    "}\n",
    "\n",
    "# Print all loaded dataframes\n",
    "cat(\"\\n--- List of loaded dataframes ---\\n\")\n",
    "for (name in names(loaded_data)) {\n",
    "  cat(\"Data for:\", name, \"\\n\")\n",
    "  print(loaded_data[[name]])\n",
    "}"
   ]
  },
  {
   "cell_type": "code",
   "execution_count": null,
   "metadata": {
    "vscode": {
     "languageId": "r"
    }
   },
   "outputs": [],
   "source": [
    "# Initialize lists to store predictions for each metric for cps and adult\n",
    "cps_metric_tables <- list(\n",
    "  MAE = list(),\n",
    "  MSE = list(),\n",
    "  RMSE = list(),\n",
    "  R_squared = list(),\n",
    "  MAPE = list()\n",
    ")\n",
    "\n",
    "adult_metric_tables <- list(\n",
    "  Accuracy = list(),\n",
    "  F1 = list(),\n",
    "  Sensitivity = list(),\n",
    "  Specificity = list()\n",
    ")\n",
    "\n",
    "# Loop through the loaded data and extract the metrics for each model\n",
    "for (name in names(loaded_data)) {\n",
    "  dataset_name <- sub(\"_(cart|rf|bn|xgb|svm|orig)\", \"\", name)\n",
    "  \n",
    "  # Check if the data belongs to cps or adult\n",
    "  if (grepl(\"cps\", name)) {\n",
    "    # Check for regression metrics in eval_regression_avg\n",
    "    if (\"eval_regression_avg\" %in% names(loaded_data[[name]])) {\n",
    "      cps_metric_tables$MAE[[dataset_name]] <- loaded_data[[name]]$eval_regression_avg[\"CART\", \"MAE\"]\n",
    "      cps_metric_tables$MSE[[dataset_name]] <- loaded_data[[name]]$eval_regression_avg[\"CART\", \"MSE\"]\n",
    "      cps_metric_tables$RMSE[[dataset_name]] <- loaded_data[[name]]$eval_regression_avg[\"CART\", \"RMSE\"]\n",
    "      cps_metric_tables$R_squared[[dataset_name]] <- loaded_data[[name]]$eval_regression_avg[\"CART\", \"R_squared\"]\n",
    "      cps_metric_tables$MAPE[[dataset_name]] <- loaded_data[[name]]$eval_regression_avg[\"CART\", \"MAPE\"]\n",
    "    }\n",
    "  } else if (grepl(\"adult\", name)) {\n",
    "    # Check for classification metrics in eval_classification_avg\n",
    "    if (\"eval_classification_avg\" %in% names(loaded_data[[name]])) {\n",
    "      adult_metric_tables$Accuracy[[dataset_name]] <- loaded_data[[name]]$eval_classification_avg[\"CART\", \"Accuracy\"]\n",
    "      adult_metric_tables$F1[[dataset_name]] <- loaded_data[[name]]$eval_classification_avg[\"CART\", \"F1\"]\n",
    "      adult_metric_tables$Sensitivity[[dataset_name]] <- loaded_data[[name]]$eval_classification_avg[\"CART\", \"Sensitivity\"]\n",
    "      adult_metric_tables$Specificity[[dataset_name]] <- loaded_data[[name]]$eval_classification_avg[\"CART\", \"Specificity\"]\n",
    "    }\n",
    "  }\n",
    "}\n",
    "\n",
    "# Convert the lists to dataframes for easier viewing and processing\n",
    "for (metric in names(cps_metric_tables)) {\n",
    "  cps_metric_tables[[metric]] <- as.data.frame(do.call(rbind, cps_metric_tables[[metric]]))\n",
    "  rownames(cps_metric_tables[[metric]]) <- paste0(names(cps_metric_tables[[metric]]), \"_cps\")\n",
    "}\n",
    "\n",
    "for (metric in names(adult_metric_tables)) {\n",
    "  adult_metric_tables[[metric]] <- as.data.frame(do.call(rbind, adult_metric_tables[[metric]]))\n",
    "  rownames(adult_metric_tables[[metric]]) <- paste0(names(adult_metric_tables[[metric]]), \"_adult\")\n",
    "}\n",
    "\n",
    "# Print the resulting metric tables\n",
    "cat(\"\\n--- CPS Metric Tables ---\\n\")\n",
    "for (metric in names(cps_metric_tables)) {\n",
    "  cat(\"\\nMetric:\", metric, \"\\n\")\n",
    "  print(cps_metric_tables[[metric]])\n",
    "}\n",
    "\n",
    "cat(\"\\n--- Adult Metric Tables ---\\n\")\n",
    "for (metric in names(adult_metric_tables)) {\n",
    "  cat(\"\\nMetric:\", metric, \"\\n\")\n",
    "  print(adult_metric_tables[[metric]])\n",
    "}\n"
   ]
  }
 ],
 "metadata": {
  "language_info": {
   "codemirror_mode": "r",
   "file_extension": ".r",
   "mimetype": "text/x-r-source",
   "name": "R",
   "pygments_lexer": "r",
   "version": "4.3.3"
  }
 },
 "nbformat": 4,
 "nbformat_minor": 2
}
