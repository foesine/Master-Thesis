{
 "cells": [
  {
   "cell_type": "markdown",
   "metadata": {},
   "source": [
    "# Boosting\n"
   ]
  },
  {
   "cell_type": "code",
   "execution_count": 6,
   "metadata": {
    "vscode": {
     "languageId": "r"
    }
   },
   "outputs": [
    {
     "name": "stdout",
     "output_type": "stream",
     "text": [
      "\n",
      "Die heruntergeladenen Bin\"arpakete sind in \n",
      "\t/var/folders/kj/dkjqkk2n3wq2zfbttgdpjrj80000gn/T//RtmpSQ0hu8/downloaded_packages\n"
     ]
    }
   ],
   "source": [
    "install.packages(\"data.table\")"
   ]
  },
  {
   "cell_type": "code",
   "execution_count": 7,
   "metadata": {
    "vscode": {
     "languageId": "r"
    }
   },
   "outputs": [
    {
     "name": "stderr",
     "output_type": "stream",
     "text": [
      "Lade n\"otiges Paket: xgboost\n",
      "\n"
     ]
    },
    {
     "name": "stderr",
     "output_type": "stream",
     "text": [
      "Warning message:\n",
      "\"Paket 'xgboost' wurde unter R Version 4.3.2 erstellt\"\n",
      "\n",
      "Attache Paket: 'xgboost'\n",
      "\n",
      "\n",
      "Das folgende Objekt ist maskiert 'package:dplyr':\n",
      "\n",
      "    slice\n",
      "\n",
      "\n"
     ]
    },
    {
     "data": {
      "text/html": [
       "<ol>\n",
       "\t<li>TRUE</li>\n",
       "\t<li>TRUE</li>\n",
       "\t<li>TRUE</li>\n",
       "\t<li>TRUE</li>\n",
       "\t<li>TRUE</li>\n",
       "\t<li>TRUE</li>\n",
       "\t<li>TRUE</li>\n",
       "\t<li>TRUE</li>\n",
       "\t<li>TRUE</li>\n",
       "\t<li>TRUE</li>\n",
       "\t<li>TRUE</li>\n",
       "\t<li>TRUE</li>\n",
       "\t<li>TRUE</li>\n",
       "\t<li>TRUE</li>\n",
       "\t<li>TRUE</li>\n",
       "\t<li>TRUE</li>\n",
       "\t<li>TRUE</li>\n",
       "</ol>\n"
      ],
      "text/latex": [
       "\\begin{enumerate}\n",
       "\\item TRUE\n",
       "\\item TRUE\n",
       "\\item TRUE\n",
       "\\item TRUE\n",
       "\\item TRUE\n",
       "\\item TRUE\n",
       "\\item TRUE\n",
       "\\item TRUE\n",
       "\\item TRUE\n",
       "\\item TRUE\n",
       "\\item TRUE\n",
       "\\item TRUE\n",
       "\\item TRUE\n",
       "\\item TRUE\n",
       "\\item TRUE\n",
       "\\item TRUE\n",
       "\\item TRUE\n",
       "\\end{enumerate}\n"
      ],
      "text/markdown": [
       "1. TRUE\n",
       "2. TRUE\n",
       "3. TRUE\n",
       "4. TRUE\n",
       "5. TRUE\n",
       "6. TRUE\n",
       "7. TRUE\n",
       "8. TRUE\n",
       "9. TRUE\n",
       "10. TRUE\n",
       "11. TRUE\n",
       "12. TRUE\n",
       "13. TRUE\n",
       "14. TRUE\n",
       "15. TRUE\n",
       "16. TRUE\n",
       "17. TRUE\n",
       "\n",
       "\n"
      ],
      "text/plain": [
       "[[1]]\n",
       "[1] TRUE\n",
       "\n",
       "[[2]]\n",
       "[1] TRUE\n",
       "\n",
       "[[3]]\n",
       "[1] TRUE\n",
       "\n",
       "[[4]]\n",
       "[1] TRUE\n",
       "\n",
       "[[5]]\n",
       "[1] TRUE\n",
       "\n",
       "[[6]]\n",
       "[1] TRUE\n",
       "\n",
       "[[7]]\n",
       "[1] TRUE\n",
       "\n",
       "[[8]]\n",
       "[1] TRUE\n",
       "\n",
       "[[9]]\n",
       "[1] TRUE\n",
       "\n",
       "[[10]]\n",
       "[1] TRUE\n",
       "\n",
       "[[11]]\n",
       "[1] TRUE\n",
       "\n",
       "[[12]]\n",
       "[1] TRUE\n",
       "\n",
       "[[13]]\n",
       "[1] TRUE\n",
       "\n",
       "[[14]]\n",
       "[1] TRUE\n",
       "\n",
       "[[15]]\n",
       "[1] TRUE\n",
       "\n",
       "[[16]]\n",
       "[1] TRUE\n",
       "\n",
       "[[17]]\n",
       "[1] TRUE\n"
      ]
     },
     "metadata": {},
     "output_type": "display_data"
    }
   ],
   "source": [
    "list_of_packages <- c (\"synthpop\", \"insight\", \"party\", \"dplyr\", \"rpart\", \"rpart.plot\", \"randomForest\", \"pROC\", \"caret\", \"pracma\", \"here\", \"Hmisc\", \"arf\", \"randomForest\", \"caret\", \"xgboost\", \"data.table\")\n",
    "\n",
    "lapply(list_of_packages, FUN= function(X){\n",
    "  do.call(\"require\", list(X))\n",
    "})"
   ]
  },
  {
   "cell_type": "markdown",
   "metadata": {},
   "source": [
    "## Data"
   ]
  },
  {
   "cell_type": "code",
   "execution_count": 3,
   "metadata": {
    "vscode": {
     "languageId": "r"
    }
   },
   "outputs": [],
   "source": [
    "load(file = (paste0(here(), \"/cpspop.RData\")))\n",
    "adult <- read.csv(file = (paste0(here(),\"/adult_preprocessed.csv\")))\n",
    "# delete NAs\n",
    "adult[adult == \"?\"] <- NA\n",
    "adult <- na.omit(adult)\n",
    "\n",
    "adult$workclass <- as.factor(adult$workclass)\n",
    "adult$education <- as.factor(adult$education)\n",
    "adult$marital_status <- as.factor(adult$marital_status)\n",
    "adult$relationship <- as.factor(adult$relationship)\n",
    "adult$race <- as.factor(adult$race)\n",
    "adult$sex <- as.factor(adult$sex)\n",
    "adult$native_country <- as.factor(adult$native_country)\n",
    "adult$income <- as.factor(adult$income)"
   ]
  },
  {
   "cell_type": "markdown",
   "metadata": {},
   "source": [
    "# Trying out the function"
   ]
  },
  {
   "cell_type": "code",
   "execution_count": 13,
   "metadata": {
    "vscode": {
     "languageId": "r"
    }
   },
   "outputs": [],
   "source": [
    "convert_to_numeric_matrix <- function(df) {\n",
    "  # Convert factors to numeric\n",
    "  df[] <- lapply(df, function(col) {\n",
    "    if (is.factor(col)) {\n",
    "      return(as.numeric(col))\n",
    "    } else {\n",
    "      return(col)\n",
    "    }\n",
    "  })\n",
    "  \n",
    "  # Convert the entire data frame to a matrix\n",
    "  matrix_data <- as.matrix(df)\n",
    "  return(matrix_data)\n",
    "}"
   ]
  },
  {
   "cell_type": "code",
   "execution_count": 14,
   "metadata": {
    "vscode": {
     "languageId": "r"
    }
   },
   "outputs": [],
   "source": [
    "cps_matrix <- convert_to_numeric_matrix(cpspop)"
   ]
  },
  {
   "cell_type": "code",
   "execution_count": 19,
   "metadata": {
    "vscode": {
     "languageId": "r"
    }
   },
   "outputs": [
    {
     "name": "stdout",
     "output_type": "stream",
     "text": [
      "       tax csp age educ marital race sex    ss   income\n",
      "48035 1800   0  37    9       1    1   1     0 68356.65\n",
      "40955  125   0  39   13       1    1   2     0 76002.25\n",
      "25483    0   0  48   11       5    1   2     0 34738.66\n",
      "49967  324   0  59    9       1    1   1 13326 43434.59\n",
      "41719    0   0  25   10       1    1   2     0 43361.99\n",
      "25519  900   0  61    9       1    1   1     0 58998.41\n"
     ]
    }
   ],
   "source": [
    "target_col <- 'income'\n",
    "target_col_index <- which(colnames(cps_matrix) == target_col)\n",
    "\n",
    "# Split the data into features (X) and target (y)\n",
    "X <- cps_matrix[, -target_col_index]\n",
    "y <- cps_matrix[, target_col_index]\n",
    "\n",
    "# Convert to DMatrix\n",
    "dtrain <- xgb.DMatrix(data = X, label = y)\n",
    "\n",
    "# Set parameters for XGBoost\n",
    "params <- list(\n",
    "  objective = \"reg:squarederror\",  # Use \"reg:squarederror\" for regression tasks or change accordingly\n",
    "  max_depth = 3,\n",
    "  eta = 0.1\n",
    ")\n",
    "\n",
    "# Train the model\n",
    "bst_model <- xgb.train(params = params, data = dtrain, nrounds = 100)\n",
    "\n",
    "syn_xgb <- function(model, X, n_samples) {\n",
    "  synthetic_data <- list()\n",
    "  for (i in 1:n_samples) {\n",
    "    # Sample a random row from the feature matrix\n",
    "    random_sample <- X[sample(1:nrow(X), 1), , drop = FALSE]\n",
    "    \n",
    "    # Predict the target variable for the sampled row\n",
    "    prediction <- predict(model, xgb.DMatrix(data = random_sample))\n",
    "    \n",
    "    # Combine the random sample with the predicted target\n",
    "    synthetic_sample <- as.data.frame(random_sample)\n",
    "    synthetic_sample$income <- prediction  # Rename the target column to 'income'\n",
    "    \n",
    "    # Append to the list\n",
    "    synthetic_data[[i]] <- synthetic_sample\n",
    "  }\n",
    "  \n",
    "  # Combine all synthetic samples into a data frame\n",
    "  synthetic_df <- do.call(rbind, synthetic_data)\n",
    "  return(synthetic_df)\n",
    "}"
   ]
  },
  {
   "cell_type": "code",
   "execution_count": null,
   "metadata": {
    "vscode": {
     "languageId": "r"
    }
   },
   "outputs": [],
   "source": [
    "# Generate synthetic data\n",
    "syn_cps <- syn_xgb(bst_model, X, nrow(cpspop))\n",
    "\n",
    "print(head(synthetic_data))"
   ]
  },
  {
   "cell_type": "markdown",
   "metadata": {},
   "source": [
    "## Simulation"
   ]
  },
  {
   "cell_type": "markdown",
   "metadata": {},
   "source": [
    "### Helper functions"
   ]
  },
  {
   "cell_type": "code",
   "execution_count": null,
   "metadata": {
    "vscode": {
     "languageId": "r"
    }
   },
   "outputs": [],
   "source": [
    "evaluation_metrics_cont <- function(predictions, test_set){\n",
    "  MAE <- mean(abs(predictions - test_set$income))\n",
    "  MSE <- mean((predictions - test_set$income)^2)\n",
    "  RMSE <- sqrt(MSE)\n",
    "\n",
    "  SS_res <- sum((test_set$income - predictions)^2)\n",
    "  SS_tot <- sum((test_set$income - mean(test_set$income))^2)\n",
    "  R_squared <- 1 - (SS_res / SS_tot)\n",
    "\n",
    "  MAPE <- mean(abs((test_set$income - predictions) / test_set$income)) * 100\n",
    "\n",
    "  # Create the dataframe\n",
    "  metrics_df <- data.frame(\n",
    "        MAE = MAE, \n",
    "        MSE = MSE, \n",
    "        RMSE = RMSE,\n",
    "        R_squared = R_squared, \n",
    "        MAPE = MAPE)\n",
    "\n",
    "  return(metrics_df)\n",
    "}"
   ]
  },
  {
   "cell_type": "code",
   "execution_count": null,
   "metadata": {
    "vscode": {
     "languageId": "r"
    }
   },
   "outputs": [],
   "source": [
    "## Calculate evaluation metrics for factored targets\n",
    "evaluation_metrics_factor <- function(predictions, test_set){\n",
    "    # confusion matrix for the prediction on original data\n",
    "    cm <- confusionMatrix(predictions, test_set$income,\n",
    "                mode = \"everything\")\n",
    "\n",
    "    # saving evaluation metrics\n",
    "    accuracy <- cm$overall['Accuracy']\n",
    "    f1 <- cm$byClass['F1']\n",
    "    sens <- cm$byClass['Sensitivity']\n",
    "    spec <- cm$byClass['Specificity']\n",
    "\n",
    "    # Create the dataframe\n",
    "    metrics_df <- data.frame(\n",
    "        Accuracy = accuracy, \n",
    "        F1 = f1, \n",
    "        Sensitivity = sens, \n",
    "        Specificity = spec\n",
    "    )\n",
    "    \n",
    "    return(metrics_df)\n",
    "}"
   ]
  }
 ],
 "metadata": {
  "kernelspec": {
   "display_name": "R",
   "language": "R",
   "name": "ir"
  },
  "language_info": {
   "codemirror_mode": "r",
   "file_extension": ".r",
   "mimetype": "text/x-r-source",
   "name": "R",
   "pygments_lexer": "r",
   "version": "4.3.1"
  },
  "orig_nbformat": 4
 },
 "nbformat": 4,
 "nbformat_minor": 2
}
