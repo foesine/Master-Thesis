{
 "cells": [
  {
   "cell_type": "markdown",
   "metadata": {},
   "source": [
    "# Synthetic Data Generator with a Random Forest Model"
   ]
  },
  {
   "cell_type": "markdown",
   "metadata": {},
   "source": [
    "## Libraries"
   ]
  },
  {
   "cell_type": "code",
   "execution_count": null,
   "metadata": {
    "execution": {
     "iopub.execute_input": "2024-10-03T11:09:47.798746Z",
     "iopub.status.busy": "2024-10-03T11:09:47.793486Z",
     "iopub.status.idle": "2024-10-03T11:10:28.761462Z",
     "shell.execute_reply": "2024-10-03T11:10:28.756767Z"
    },
    "vscode": {
     "languageId": "r"
    }
   },
   "outputs": [],
   "source": [
    "Sys.setenv(\"PKG_CXXFLAGS\"=\"-std=c++14\")\n",
    "\n",
    "# List of required packages\n",
    "list_of_packages <- c(\n",
    "  \"synthpop\", \"jsonlite\", \"codetools\", \"insight\", \"party\", \"haven\", \"dplyr\", \"rpart\", \"rpart.plot\",\n",
    "  \"randomForest\", \"pROC\", \"caret\", \"pracma\", \"here\", \"Hmisc\", \"purrr\",\n",
    "  \"ranger\", \"bnlearn\", \"arulesCBA\", \"network\", \"igraph\", \"xgboost\",\n",
    "  \"data.table\", \"RSNNS\", \"xgboost\", \"data.table\", \"Matrix\", \"foreach\", \"doParallel\"\n",
    ")\n",
    "\n",
    "# Function to load packages and handle errors\n",
    "load_if_installed <- function(p) {\n",
    "  tryCatch({\n",
    "    library(p, character.only = TRUE)\n",
    "  }, error = function(e) {\n",
    "    message(sprintf(\"Package '%s' is not installed.\", p))\n",
    "  })\n",
    "}\n",
    "\n",
    "# Load all required packages\n",
    "lapply(list_of_packages, load_if_installed)"
   ]
  },
  {
   "cell_type": "markdown",
   "metadata": {},
   "source": [
    "## Data"
   ]
  },
  {
   "cell_type": "code",
   "execution_count": 2,
   "metadata": {
    "execution": {
     "iopub.execute_input": "2024-10-03T11:10:28.825144Z",
     "iopub.status.busy": "2024-10-03T11:10:28.775071Z",
     "iopub.status.idle": "2024-10-03T11:10:29.261246Z",
     "shell.execute_reply": "2024-10-03T11:10:29.257075Z"
    },
    "vscode": {
     "languageId": "r"
    }
   },
   "outputs": [],
   "source": [
    "load(file = (paste0(here(), \"/cpspop.RData\")))\n",
    "cpspop <- cpspop[, c(setdiff(names(cpspop), c(\"race\", \"marital\", \"educ\")), \"race\", \"marital\", \"educ\")] #\n",
    "\n",
    "adult <- read.csv(file = (paste0(here(),\"/adult_preprocessed.csv\")))\n",
    "# delete NAs\n",
    "adult[adult == \"?\"] <- NA\n",
    "adult <- na.omit(adult)\n",
    "\n",
    "adult$workclass <- as.factor(adult$workclass)\n",
    "adult$education <- as.factor(adult$education)\n",
    "adult$marital_status <- as.factor(adult$marital_status)\n",
    "adult$relationship <- as.factor(adult$relationship)\n",
    "adult$race <- as.factor(adult$race)\n",
    "adult$sex <- as.factor(adult$sex)\n",
    "adult$native_country <- as.factor(adult$native_country)\n",
    "adult$income <- as.factor(adult$income)\n",
    "adult$occupation <- as.factor(adult$occupation)\n",
    "\n",
    "adult <- adult[, c(\"age\", \"fnlwgt\", \"capital_gain\", \"capital_loss\", \"hours_per_week\", \"income\", \"sex\", \"race\", \"relationship\", \"marital_status\", \"workclass\", \"occupation\", \"education\", \"native_country\")]\n"
   ]
  },
  {
   "cell_type": "markdown",
   "metadata": {},
   "source": [
    "## Synthetic Data"
   ]
  },
  {
   "cell_type": "code",
   "execution_count": 3,
   "metadata": {
    "execution": {
     "iopub.execute_input": "2024-10-03T11:10:29.270394Z",
     "iopub.status.busy": "2024-10-03T11:10:29.267386Z",
     "iopub.status.idle": "2024-10-03T11:10:29.288721Z",
     "shell.execute_reply": "2024-10-03T11:10:29.285482Z"
    },
    "vscode": {
     "languageId": "r"
    }
   },
   "outputs": [],
   "source": [
    "synthesize_data_rf <- function(data, first_var, seed) {\n",
    "  # set seed\n",
    "  #set.seed(seed)\n",
    "\n",
    "  # Specify the synthesis method for each variable as 'ranger'\n",
    "  method_list <- rep(\"rf\", ncol(data))  # Set 'ranger' method for all variables\n",
    "  method_list[which(colnames(data) == first_var)] <- \"sample\"  # Use random sampling for the first variable\n",
    "  \n",
    "  # Define the visit sequence (order of synthesis)\n",
    "  visit_sequence <- c(which(colnames(data) == first_var), setdiff(1:ncol(data), which(colnames(data) == first_var)))\n",
    "  \n",
    "  # Perform the sequential synthesis with random forest (ranger)\n",
    "  syn_data <- syn(data, method = method_list, visit.sequence = visit_sequence, seed = seed)#, ranger.save.memory = TRUE, ranger.num.trees = 100, ranger.max.depth = 10)#, seed = seed)\n",
    "  #control = list(num.trees = 100, max.depth = 10, save.memory = TRUE)\n",
    "  \n",
    "  # Return the synthetic dataset\n",
    "  return(syn_data$syn)\n",
    "}\n"
   ]
  },
  {
   "cell_type": "markdown",
   "metadata": {},
   "source": [
    "## Apply"
   ]
  },
  {
   "cell_type": "code",
   "execution_count": 4,
   "metadata": {
    "execution": {
     "iopub.execute_input": "2024-10-03T11:10:29.297058Z",
     "iopub.status.busy": "2024-10-03T11:10:29.294074Z",
     "iopub.status.idle": "2024-10-03T11:10:29.313567Z",
     "shell.execute_reply": "2024-10-03T11:10:29.310297Z"
    },
    "vscode": {
     "languageId": "r"
    }
   },
   "outputs": [],
   "source": [
    "save_synthesized_data <- function(data, dataset_name, seed) {\n",
    "  file_name <- paste0(dataset_name, \"_rf_\", as.character(seed), \".rds\")\n",
    "  saveRDS(data, paste0(here(), \"/results/\", file_name))\n",
    "}"
   ]
  },
  {
   "cell_type": "code",
   "execution_count": null,
   "metadata": {
    "vscode": {
     "languageId": "r"
    }
   },
   "outputs": [],
   "source": [
    "s <- 1236\n",
    "cps_syn <- synthesize_data_rf(cpspop, first_var = \"sex\", seed = s)\n",
    "adult_syn <- synthesize_data_rf(adult, first_var = \"sex\", seed = s)"
   ]
  },
  {
   "cell_type": "code",
   "execution_count": null,
   "metadata": {
    "vscode": {
     "languageId": "r"
    }
   },
   "outputs": [],
   "source": [
    "save_synthesized_data(cps_syn, \"cps\", s)\n",
    "save_synthesized_data(adult_syn, \"adult\", s)"
   ]
  },
  {
   "cell_type": "code",
   "execution_count": null,
   "metadata": {
    "vscode": {
     "languageId": "r"
    }
   },
   "outputs": [],
   "source": [
    "head(cps_syn)"
   ]
  },
  {
   "cell_type": "code",
   "execution_count": null,
   "metadata": {
    "vscode": {
     "languageId": "r"
    }
   },
   "outputs": [],
   "source": [
    "head(adult_syn)"
   ]
  }
 ],
 "metadata": {
  "kernelspec": {
   "display_name": "R",
   "language": "R",
   "name": "ir"
  },
  "language_info": {
   "codemirror_mode": "r",
   "file_extension": ".r",
   "mimetype": "text/x-r-source",
   "name": "R",
   "pygments_lexer": "r",
   "version": "4.3.3"
  }
 },
 "nbformat": 4,
 "nbformat_minor": 2
}
