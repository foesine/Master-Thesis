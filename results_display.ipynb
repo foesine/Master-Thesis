{
 "cells": [
  {
   "cell_type": "markdown",
   "metadata": {},
   "source": [
    "Load and evaluate results"
   ]
  },
  {
   "cell_type": "code",
   "execution_count": 1,
   "metadata": {
    "vscode": {
     "languageId": "r"
    }
   },
   "outputs": [
    {
     "name": "stderr",
     "output_type": "stream",
     "text": [
      "here() starts at /Users/emmafoessing/Documents/Master/MA/Code/Master-Thesis\n",
      "\n"
     ]
    },
    {
     "data": {
      "text/html": [
       "<ol>\n",
       "\t<li><style>\n",
       ".list-inline {list-style: none; margin:0; padding: 0}\n",
       ".list-inline>li {display: inline-block}\n",
       ".list-inline>li:not(:last-child)::after {content: \"\\00b7\"; padding: 0 .5ex}\n",
       "</style>\n",
       "<ol class=list-inline><li>'here'</li><li>'stats'</li><li>'graphics'</li><li>'grDevices'</li><li>'utils'</li><li>'datasets'</li><li>'methods'</li><li>'base'</li></ol>\n",
       "</li>\n",
       "</ol>\n"
      ],
      "text/latex": [
       "\\begin{enumerate}\n",
       "\\item \\begin{enumerate*}\n",
       "\\item 'here'\n",
       "\\item 'stats'\n",
       "\\item 'graphics'\n",
       "\\item 'grDevices'\n",
       "\\item 'utils'\n",
       "\\item 'datasets'\n",
       "\\item 'methods'\n",
       "\\item 'base'\n",
       "\\end{enumerate*}\n",
       "\n",
       "\\end{enumerate}\n"
      ],
      "text/markdown": [
       "1. 1. 'here'\n",
       "2. 'stats'\n",
       "3. 'graphics'\n",
       "4. 'grDevices'\n",
       "5. 'utils'\n",
       "6. 'datasets'\n",
       "7. 'methods'\n",
       "8. 'base'\n",
       "\n",
       "\n",
       "\n",
       "\n",
       "\n"
      ],
      "text/plain": [
       "[[1]]\n",
       "[1] \"here\"      \"stats\"     \"graphics\"  \"grDevices\" \"utils\"     \"datasets\" \n",
       "[7] \"methods\"   \"base\"     \n"
      ]
     },
     "metadata": {},
     "output_type": "display_data"
    }
   ],
   "source": [
    "list_of_packages <- c (\"here\")\n",
    "\n",
    "install_if_missing <- function(p){\n",
    "  if(!requireNamespace(p, quietly = TRUE)){\n",
    "    install.packages(p)\n",
    "  }\n",
    "  library(p, character.only=TRUE)\n",
    "}\n",
    "\n",
    "\n",
    "lapply(list_of_packages, install_if_missing)"
   ]
  },
  {
   "cell_type": "code",
   "execution_count": 2,
   "metadata": {
    "vscode": {
     "languageId": "r"
    }
   },
   "outputs": [],
   "source": [
    "load(paste0(here(), \"/results/cps_orig_res.RData\"))\n",
    "load(paste0(here(), \"/results/adult_orig_res.RData\"))"
   ]
  },
  {
   "cell_type": "markdown",
   "metadata": {},
   "source": []
  },
  {
   "cell_type": "code",
   "execution_count": 3,
   "metadata": {
    "vscode": {
     "languageId": "r"
    }
   },
   "outputs": [
    {
     "ename": "ERROR",
     "evalue": "Error in eval(expr, envir, enclos): Objekt 'cps_orig_res' nicht gefunden\n",
     "output_type": "error",
     "traceback": [
      "Error in eval(expr, envir, enclos): Objekt 'cps_orig_res' nicht gefunden\nTraceback:\n"
     ]
    }
   ],
   "source": [
    "cps_orig_res$eval_avg"
   ]
  },
  {
   "cell_type": "code",
   "execution_count": 4,
   "metadata": {
    "vscode": {
     "languageId": "r"
    }
   },
   "outputs": [
    {
     "ename": "ERROR",
     "evalue": "Error in eval(expr, envir, enclos): Objekt 'cps_orig_res' nicht gefunden\n",
     "output_type": "error",
     "traceback": [
      "Error in eval(expr, envir, enclos): Objekt 'cps_orig_res' nicht gefunden\nTraceback:\n"
     ]
    }
   ],
   "source": [
    "cps_orig_res$eval_avg"
   ]
  },
  {
   "cell_type": "code",
   "execution_count": 5,
   "metadata": {
    "vscode": {
     "languageId": "r"
    }
   },
   "outputs": [
    {
     "ename": "ERROR",
     "evalue": "Error in eval(expr, envir, enclos): Objekt 'adult_orig_res' nicht gefunden\n",
     "output_type": "error",
     "traceback": [
      "Error in eval(expr, envir, enclos): Objekt 'adult_orig_res' nicht gefunden\nTraceback:\n"
     ]
    }
   ],
   "source": [
    "adult_orig_res"
   ]
  },
  {
   "cell_type": "code",
   "execution_count": null,
   "metadata": {
    "vscode": {
     "languageId": "r"
    }
   },
   "outputs": [
    {
     "ename": "ERROR",
     "evalue": "Error in load(file = paste0(here(), \"/results/cps_orig_res.RData\"), version = 2): unbenutztes Argument (version = 2)\n",
     "output_type": "error",
     "traceback": [
      "Error in load(file = paste0(here(), \"/results/cps_orig_res.RData\"), version = 2): unbenutztes Argument (version = 2)\nTraceback:\n"
     ]
    }
   ],
   "source": [
    "load(file = paste0(here(), \"/results/cps_orig_res.RData\"), version = 2)\n",
    "#load(paste0(here(), \"/results/cart_orig_res.RData\"))"
   ]
  },
  {
   "cell_type": "code",
   "execution_count": 6,
   "metadata": {
    "vscode": {
     "languageId": "r"
    }
   },
   "outputs": [],
   "source": [
    "load(paste0(here(), \"/results/rf_pred_results.RData\"))"
   ]
  },
  {
   "cell_type": "code",
   "execution_count": 7,
   "metadata": {
    "vscode": {
     "languageId": "r"
    }
   },
   "outputs": [
    {
     "data": {
      "text/html": [
       "<dl>\n",
       "\t<dt>$cps_res</dt>\n",
       "\t\t<dd><table class=\"dataframe\">\n",
       "<caption>A data.frame: 1 x 5</caption>\n",
       "<thead>\n",
       "\t<tr><th scope=col>MAE</th><th scope=col>MSE</th><th scope=col>RMSE</th><th scope=col>R_squared</th><th scope=col>MAPE</th></tr>\n",
       "\t<tr><th scope=col>&lt;dbl&gt;</th><th scope=col>&lt;dbl&gt;</th><th scope=col>&lt;dbl&gt;</th><th scope=col>&lt;dbl&gt;</th><th scope=col>&lt;dbl&gt;</th></tr>\n",
       "</thead>\n",
       "<tbody>\n",
       "\t<tr><td>25065.39</td><td>1600650334</td><td>39998.24</td><td>0.3391171</td><td>4253.521</td></tr>\n",
       "</tbody>\n",
       "</table>\n",
       "</dd>\n",
       "\t<dt>$adult_res</dt>\n",
       "\t\t<dd><table class=\"dataframe\">\n",
       "<caption>A data.frame: 1 x 4</caption>\n",
       "<thead>\n",
       "\t<tr><th scope=col>Accuracy</th><th scope=col>F1</th><th scope=col>Sensitivity</th><th scope=col>Specificity</th></tr>\n",
       "\t<tr><th scope=col>&lt;dbl&gt;</th><th scope=col>&lt;dbl&gt;</th><th scope=col>&lt;dbl&gt;</th><th scope=col>&lt;dbl&gt;</th></tr>\n",
       "</thead>\n",
       "<tbody>\n",
       "\t<tr><td>0.8595584</td><td>0.9093163</td><td>0.9375383</td><td>0.6242667</td></tr>\n",
       "</tbody>\n",
       "</table>\n",
       "</dd>\n",
       "</dl>\n"
      ],
      "text/latex": [
       "\\begin{description}\n",
       "\\item[\\$cps\\_res] A data.frame: 1 x 5\n",
       "\\begin{tabular}{lllll}\n",
       " MAE & MSE & RMSE & R\\_squared & MAPE\\\\\n",
       " <dbl> & <dbl> & <dbl> & <dbl> & <dbl>\\\\\n",
       "\\hline\n",
       "\t 25065.39 & 1600650334 & 39998.24 & 0.3391171 & 4253.521\\\\\n",
       "\\end{tabular}\n",
       "\n",
       "\\item[\\$adult\\_res] A data.frame: 1 x 4\n",
       "\\begin{tabular}{llll}\n",
       " Accuracy & F1 & Sensitivity & Specificity\\\\\n",
       " <dbl> & <dbl> & <dbl> & <dbl>\\\\\n",
       "\\hline\n",
       "\t 0.8595584 & 0.9093163 & 0.9375383 & 0.6242667\\\\\n",
       "\\end{tabular}\n",
       "\n",
       "\\end{description}\n"
      ],
      "text/markdown": [
       "$cps_res\n",
       ":   \n",
       "A data.frame: 1 x 5\n",
       "\n",
       "| MAE &lt;dbl&gt; | MSE &lt;dbl&gt; | RMSE &lt;dbl&gt; | R_squared &lt;dbl&gt; | MAPE &lt;dbl&gt; |\n",
       "|---|---|---|---|---|\n",
       "| 25065.39 | 1600650334 | 39998.24 | 0.3391171 | 4253.521 |\n",
       "\n",
       "\n",
       "$adult_res\n",
       ":   \n",
       "A data.frame: 1 x 4\n",
       "\n",
       "| Accuracy &lt;dbl&gt; | F1 &lt;dbl&gt; | Sensitivity &lt;dbl&gt; | Specificity &lt;dbl&gt; |\n",
       "|---|---|---|---|\n",
       "| 0.8595584 | 0.9093163 | 0.9375383 | 0.6242667 |\n",
       "\n",
       "\n",
       "\n",
       "\n"
      ],
      "text/plain": [
       "$cps_res\n",
       "       MAE        MSE     RMSE R_squared     MAPE\n",
       "1 25065.39 1600650334 39998.24 0.3391171 4253.521\n",
       "\n",
       "$adult_res\n",
       "   Accuracy        F1 Sensitivity Specificity\n",
       "1 0.8595584 0.9093163   0.9375383   0.6242667\n"
      ]
     },
     "metadata": {},
     "output_type": "display_data"
    }
   ],
   "source": [
    "rf_pred_results"
   ]
  },
  {
   "cell_type": "code",
   "execution_count": null,
   "metadata": {
    "vscode": {
     "languageId": "r"
    }
   },
   "outputs": [],
   "source": []
  }
 ],
 "metadata": {
  "kernelspec": {
   "display_name": "R",
   "language": "R",
   "name": "ir"
  },
  "language_info": {
   "codemirror_mode": "r",
   "file_extension": ".r",
   "mimetype": "text/x-r-source",
   "name": "R",
   "pygments_lexer": "r",
   "version": "4.4.1"
  },
  "orig_nbformat": 4
 },
 "nbformat": 4,
 "nbformat_minor": 2
}
