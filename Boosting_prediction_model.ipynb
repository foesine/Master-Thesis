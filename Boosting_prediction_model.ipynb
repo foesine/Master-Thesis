{
 "cells": [
  {
   "cell_type": "markdown",
   "metadata": {},
   "source": [
    "# Boosting prediction function\n"
   ]
  },
  {
   "cell_type": "code",
   "execution_count": 23,
   "metadata": {
    "vscode": {
     "languageId": "r"
    }
   },
   "outputs": [
    {
     "name": "stdout",
     "output_type": "stream",
     "text": [
      "\n",
      "Die heruntergeladenen Bin\"arpakete sind in \n",
      "\t/var/folders/kj/dkjqkk2n3wq2zfbttgdpjrj80000gn/T//Rtmptupr5b/downloaded_packages\n"
     ]
    }
   ],
   "source": [
    "install.packages(\"xgboost\")"
   ]
  },
  {
   "cell_type": "code",
   "execution_count": 24,
   "metadata": {
    "vscode": {
     "languageId": "r"
    }
   },
   "outputs": [
    {
     "name": "stderr",
     "output_type": "stream",
     "text": [
      "Lade n\"otiges Paket: xgboost\n",
      "\n"
     ]
    },
    {
     "name": "stderr",
     "output_type": "stream",
     "text": [
      "\n",
      "Attache Paket: 'xgboost'\n",
      "\n",
      "\n",
      "Das folgende Objekt ist maskiert 'package:dplyr':\n",
      "\n",
      "    slice\n",
      "\n",
      "\n"
     ]
    },
    {
     "data": {
      "text/html": [
       "<ol>\n",
       "\t<li>TRUE</li>\n",
       "\t<li>TRUE</li>\n",
       "\t<li>TRUE</li>\n",
       "\t<li>TRUE</li>\n",
       "\t<li>TRUE</li>\n",
       "\t<li>TRUE</li>\n",
       "\t<li>TRUE</li>\n",
       "\t<li>TRUE</li>\n",
       "\t<li>TRUE</li>\n",
       "\t<li>TRUE</li>\n",
       "\t<li>TRUE</li>\n",
       "\t<li>TRUE</li>\n",
       "\t<li>TRUE</li>\n",
       "\t<li>TRUE</li>\n",
       "\t<li>TRUE</li>\n",
       "\t<li>TRUE</li>\n",
       "</ol>\n"
      ],
      "text/latex": [
       "\\begin{enumerate}\n",
       "\\item TRUE\n",
       "\\item TRUE\n",
       "\\item TRUE\n",
       "\\item TRUE\n",
       "\\item TRUE\n",
       "\\item TRUE\n",
       "\\item TRUE\n",
       "\\item TRUE\n",
       "\\item TRUE\n",
       "\\item TRUE\n",
       "\\item TRUE\n",
       "\\item TRUE\n",
       "\\item TRUE\n",
       "\\item TRUE\n",
       "\\item TRUE\n",
       "\\item TRUE\n",
       "\\end{enumerate}\n"
      ],
      "text/markdown": [
       "1. TRUE\n",
       "2. TRUE\n",
       "3. TRUE\n",
       "4. TRUE\n",
       "5. TRUE\n",
       "6. TRUE\n",
       "7. TRUE\n",
       "8. TRUE\n",
       "9. TRUE\n",
       "10. TRUE\n",
       "11. TRUE\n",
       "12. TRUE\n",
       "13. TRUE\n",
       "14. TRUE\n",
       "15. TRUE\n",
       "16. TRUE\n",
       "\n",
       "\n"
      ],
      "text/plain": [
       "[[1]]\n",
       "[1] TRUE\n",
       "\n",
       "[[2]]\n",
       "[1] TRUE\n",
       "\n",
       "[[3]]\n",
       "[1] TRUE\n",
       "\n",
       "[[4]]\n",
       "[1] TRUE\n",
       "\n",
       "[[5]]\n",
       "[1] TRUE\n",
       "\n",
       "[[6]]\n",
       "[1] TRUE\n",
       "\n",
       "[[7]]\n",
       "[1] TRUE\n",
       "\n",
       "[[8]]\n",
       "[1] TRUE\n",
       "\n",
       "[[9]]\n",
       "[1] TRUE\n",
       "\n",
       "[[10]]\n",
       "[1] TRUE\n",
       "\n",
       "[[11]]\n",
       "[1] TRUE\n",
       "\n",
       "[[12]]\n",
       "[1] TRUE\n",
       "\n",
       "[[13]]\n",
       "[1] TRUE\n",
       "\n",
       "[[14]]\n",
       "[1] TRUE\n",
       "\n",
       "[[15]]\n",
       "[1] TRUE\n",
       "\n",
       "[[16]]\n",
       "[1] TRUE\n"
      ]
     },
     "metadata": {},
     "output_type": "display_data"
    }
   ],
   "source": [
    "list_of_packages <- c (\"synthpop\", \"insight\", \"party\", \"dplyr\", \"rpart\", \"rpart.plot\", \"randomForest\", \"pROC\", \"caret\", \"pracma\", \"here\", \"Hmisc\", \"randomForest\", \"caret\", \"xgboost\", \"data.table\")\n",
    "\n",
    "lapply(list_of_packages, FUN= function(X){\n",
    "  do.call(\"require\", list(X))\n",
    "})"
   ]
  },
  {
   "cell_type": "markdown",
   "metadata": {},
   "source": [
    "## Data"
   ]
  },
  {
   "cell_type": "code",
   "execution_count": 11,
   "metadata": {
    "vscode": {
     "languageId": "r"
    }
   },
   "outputs": [],
   "source": [
    "load(file = (paste0(here(), \"/cpspop.RData\")))\n",
    "adult <- read.csv(file = (paste0(here(),\"/adult_preprocessed.csv\")))\n",
    "# delete NAs\n",
    "adult[adult == \"?\"] <- NA\n",
    "adult <- na.omit(adult)\n",
    "\n",
    "adult$workclass <- as.factor(adult$workclass)\n",
    "adult$education <- as.factor(adult$education)\n",
    "adult$marital_status <- as.factor(adult$marital_status)\n",
    "adult$relationship <- as.factor(adult$relationship)\n",
    "adult$race <- as.factor(adult$race)\n",
    "adult$sex <- as.factor(adult$sex)\n",
    "adult$native_country <- as.factor(adult$native_country)\n",
    "adult$income <- as.factor(adult$income)"
   ]
  },
  {
   "cell_type": "code",
   "execution_count": 12,
   "metadata": {
    "vscode": {
     "languageId": "r"
    }
   },
   "outputs": [
    {
     "data": {
      "text/html": [
       "<table class=\"dataframe\">\n",
       "<caption>A data.frame: 6 x 14</caption>\n",
       "<thead>\n",
       "\t<tr><th></th><th scope=col>age</th><th scope=col>workclass</th><th scope=col>fnlwgt</th><th scope=col>education</th><th scope=col>marital_status</th><th scope=col>occupation</th><th scope=col>relationship</th><th scope=col>race</th><th scope=col>sex</th><th scope=col>capital_gain</th><th scope=col>capital_loss</th><th scope=col>hours_per_week</th><th scope=col>native_country</th><th scope=col>income</th></tr>\n",
       "\t<tr><th></th><th scope=col>&lt;int&gt;</th><th scope=col>&lt;fct&gt;</th><th scope=col>&lt;int&gt;</th><th scope=col>&lt;fct&gt;</th><th scope=col>&lt;fct&gt;</th><th scope=col>&lt;int&gt;</th><th scope=col>&lt;fct&gt;</th><th scope=col>&lt;fct&gt;</th><th scope=col>&lt;fct&gt;</th><th scope=col>&lt;int&gt;</th><th scope=col>&lt;int&gt;</th><th scope=col>&lt;int&gt;</th><th scope=col>&lt;fct&gt;</th><th scope=col>&lt;fct&gt;</th></tr>\n",
       "</thead>\n",
       "<tbody>\n",
       "\t<tr><th scope=row>1</th><td>82</td><td>2</td><td>132870</td><td>11</td><td>6</td><td>3</td><td>1</td><td>4</td><td>0</td><td>0</td><td>4356</td><td>18</td><td>38</td><td>&lt;=50K</td></tr>\n",
       "\t<tr><th scope=row>2</th><td>54</td><td>2</td><td>140359</td><td>5 </td><td>0</td><td>6</td><td>4</td><td>4</td><td>0</td><td>0</td><td>3900</td><td>40</td><td>38</td><td>&lt;=50K</td></tr>\n",
       "\t<tr><th scope=row>3</th><td>41</td><td>2</td><td>264663</td><td>15</td><td>5</td><td>9</td><td>3</td><td>4</td><td>0</td><td>0</td><td>3900</td><td>40</td><td>38</td><td>&lt;=50K</td></tr>\n",
       "\t<tr><th scope=row>4</th><td>34</td><td>2</td><td>216864</td><td>11</td><td>0</td><td>7</td><td>4</td><td>4</td><td>0</td><td>0</td><td>3770</td><td>45</td><td>38</td><td>&lt;=50K</td></tr>\n",
       "\t<tr><th scope=row>5</th><td>38</td><td>2</td><td>150601</td><td>0 </td><td>5</td><td>0</td><td>4</td><td>4</td><td>1</td><td>0</td><td>3770</td><td>40</td><td>38</td><td>&lt;=50K</td></tr>\n",
       "\t<tr><th scope=row>6</th><td>74</td><td>5</td><td> 88638</td><td>10</td><td>4</td><td>9</td><td>2</td><td>4</td><td>0</td><td>0</td><td>3683</td><td>20</td><td>38</td><td>&gt;50K </td></tr>\n",
       "</tbody>\n",
       "</table>\n"
      ],
      "text/latex": [
       "A data.frame: 6 x 14\n",
       "\\begin{tabular}{r|llllllllllllll}\n",
       "  & age & workclass & fnlwgt & education & marital\\_status & occupation & relationship & race & sex & capital\\_gain & capital\\_loss & hours\\_per\\_week & native\\_country & income\\\\\n",
       "  & <int> & <fct> & <int> & <fct> & <fct> & <int> & <fct> & <fct> & <fct> & <int> & <int> & <int> & <fct> & <fct>\\\\\n",
       "\\hline\n",
       "\t1 & 82 & 2 & 132870 & 11 & 6 & 3 & 1 & 4 & 0 & 0 & 4356 & 18 & 38 & <=50K\\\\\n",
       "\t2 & 54 & 2 & 140359 & 5  & 0 & 6 & 4 & 4 & 0 & 0 & 3900 & 40 & 38 & <=50K\\\\\n",
       "\t3 & 41 & 2 & 264663 & 15 & 5 & 9 & 3 & 4 & 0 & 0 & 3900 & 40 & 38 & <=50K\\\\\n",
       "\t4 & 34 & 2 & 216864 & 11 & 0 & 7 & 4 & 4 & 0 & 0 & 3770 & 45 & 38 & <=50K\\\\\n",
       "\t5 & 38 & 2 & 150601 & 0  & 5 & 0 & 4 & 4 & 1 & 0 & 3770 & 40 & 38 & <=50K\\\\\n",
       "\t6 & 74 & 5 &  88638 & 10 & 4 & 9 & 2 & 4 & 0 & 0 & 3683 & 20 & 38 & >50K \\\\\n",
       "\\end{tabular}\n"
      ],
      "text/markdown": [
       "\n",
       "A data.frame: 6 x 14\n",
       "\n",
       "| <!--/--> | age &lt;int&gt; | workclass &lt;fct&gt; | fnlwgt &lt;int&gt; | education &lt;fct&gt; | marital_status &lt;fct&gt; | occupation &lt;int&gt; | relationship &lt;fct&gt; | race &lt;fct&gt; | sex &lt;fct&gt; | capital_gain &lt;int&gt; | capital_loss &lt;int&gt; | hours_per_week &lt;int&gt; | native_country &lt;fct&gt; | income &lt;fct&gt; |\n",
       "|---|---|---|---|---|---|---|---|---|---|---|---|---|---|---|\n",
       "| 1 | 82 | 2 | 132870 | 11 | 6 | 3 | 1 | 4 | 0 | 0 | 4356 | 18 | 38 | &lt;=50K |\n",
       "| 2 | 54 | 2 | 140359 | 5  | 0 | 6 | 4 | 4 | 0 | 0 | 3900 | 40 | 38 | &lt;=50K |\n",
       "| 3 | 41 | 2 | 264663 | 15 | 5 | 9 | 3 | 4 | 0 | 0 | 3900 | 40 | 38 | &lt;=50K |\n",
       "| 4 | 34 | 2 | 216864 | 11 | 0 | 7 | 4 | 4 | 0 | 0 | 3770 | 45 | 38 | &lt;=50K |\n",
       "| 5 | 38 | 2 | 150601 | 0  | 5 | 0 | 4 | 4 | 1 | 0 | 3770 | 40 | 38 | &lt;=50K |\n",
       "| 6 | 74 | 5 |  88638 | 10 | 4 | 9 | 2 | 4 | 0 | 0 | 3683 | 20 | 38 | &gt;50K  |\n",
       "\n"
      ],
      "text/plain": [
       "  age workclass fnlwgt education marital_status occupation relationship race\n",
       "1 82  2         132870 11        6              3          1            4   \n",
       "2 54  2         140359 5         0              6          4            4   \n",
       "3 41  2         264663 15        5              9          3            4   \n",
       "4 34  2         216864 11        0              7          4            4   \n",
       "5 38  2         150601 0         5              0          4            4   \n",
       "6 74  5          88638 10        4              9          2            4   \n",
       "  sex capital_gain capital_loss hours_per_week native_country income\n",
       "1 0   0            4356         18             38             <=50K \n",
       "2 0   0            3900         40             38             <=50K \n",
       "3 0   0            3900         40             38             <=50K \n",
       "4 0   0            3770         45             38             <=50K \n",
       "5 1   0            3770         40             38             <=50K \n",
       "6 0   0            3683         20             38             >50K  "
      ]
     },
     "metadata": {},
     "output_type": "display_data"
    }
   ],
   "source": [
    "head(adult)"
   ]
  },
  {
   "cell_type": "markdown",
   "metadata": {},
   "source": [
    "### Helper functions"
   ]
  },
  {
   "cell_type": "code",
   "execution_count": 13,
   "metadata": {
    "vscode": {
     "languageId": "r"
    }
   },
   "outputs": [],
   "source": [
    "## eval cont targets\n",
    "evaluation_metrics_cont <- function(predictions, test_set){\n",
    "  MAE <- mean(abs(predictions - test_set$income))\n",
    "  MSE <- mean((predictions - test_set$income)^2)\n",
    "  RMSE <- sqrt(MSE)\n",
    "\n",
    "  SS_res <- sum((test_set$income - predictions)^2)\n",
    "  SS_tot <- sum((test_set$income - mean(test_set$income))^2)\n",
    "  R_squared <- 1 - (SS_res / SS_tot)\n",
    "\n",
    "  MAPE <- mean(abs((test_set$income - predictions) / test_set$income)) * 100\n",
    "\n",
    "  # Create the dataframe\n",
    "  metrics_df <- data.frame(\n",
    "        MAE = MAE, \n",
    "        MSE = MSE, \n",
    "        RMSE = RMSE,\n",
    "        R_squared = R_squared, \n",
    "        MAPE = MAPE)\n",
    "\n",
    "  return(metrics_df)\n",
    "}"
   ]
  },
  {
   "cell_type": "code",
   "execution_count": 14,
   "metadata": {
    "vscode": {
     "languageId": "r"
    }
   },
   "outputs": [],
   "source": [
    "## eval factored targets\n",
    "evaluation_metrics_factor <- function(predictions, test_set){\n",
    "    # confusion matrix for the prediction on original data\n",
    "    cm <- confusionMatrix(predictions, test_set$income,\n",
    "                mode = \"everything\")\n",
    "\n",
    "    # saving evaluation metrics\n",
    "    accuracy <- cm$overall['Accuracy']\n",
    "    f1 <- cm$byClass['F1']\n",
    "    sens <- cm$byClass['Sensitivity']\n",
    "    spec <- cm$byClass['Specificity']\n",
    "\n",
    "    # Create the dataframe\n",
    "    metrics_df <- data.frame(\n",
    "        Accuracy = accuracy, \n",
    "        F1 = f1, \n",
    "        Sensitivity = sens, \n",
    "        Specificity = spec\n",
    "    )\n",
    "    \n",
    "    return(metrics_df)\n",
    "}"
   ]
  },
  {
   "cell_type": "code",
   "execution_count": 15,
   "metadata": {
    "vscode": {
     "languageId": "r"
    }
   },
   "outputs": [],
   "source": [
    "convert_to_numeric_matrix <- function(df) {\n",
    "  # Convert factors to numeric\n",
    "  df[] <- lapply(df, function(col) {\n",
    "    if (is.factor(col)) {\n",
    "      return(as.numeric(col))\n",
    "    } else {\n",
    "      return(col)\n",
    "    }\n",
    "  })\n",
    "  \n",
    "  # Convert the entire data frame to a matrix\n",
    "  matrix_data <- as.matrix(df)\n",
    "  return(matrix_data)\n",
    "}"
   ]
  },
  {
   "cell_type": "code",
   "execution_count": 29,
   "metadata": {
    "vscode": {
     "languageId": "r"
    }
   },
   "outputs": [],
   "source": [
    "simulation_xgboost <- function(data, nrun = 10, k_fold = 10, steps = 10){\n",
    "  # Create empty vector to store loss\n",
    "  loss <- rep(0, steps)\n",
    "  # Create empty array to store chosen parameters\n",
    "  best_params_list <- list()\n",
    "  # Create empty list to store evaluation dataframes\n",
    "  eval_list <- list()\n",
    "  \n",
    "  # Set the parameters grid for XGBoost\n",
    "  eta_values <- seq(0.01, 0.3, length.out = steps)\n",
    "  max_depth_values <- round(seq(3, 9, length.out = steps))\n",
    "  \n",
    "  # For loss-calculation factored variables need to be converted to numeric\n",
    "  if (is.factor(data$income)) {\n",
    "    print(\"Target is factor\")\n",
    "    data$income <- as.numeric(as.factor(data$income))\n",
    "  } else {\n",
    "    data$income <- as.numeric(data$income)\n",
    "  }\n",
    "  \n",
    "  # Set initial seed\n",
    "  s <- 1234\n",
    "  for (i in 1:nrun){\n",
    "    # Vary seed with each run\n",
    "    s <- s + 1\n",
    "    set.seed(s)\n",
    "    \n",
    "    # Randomly split the data set into k subsets (or k folds)\n",
    "    datalist <- split(data, sample(1:k_fold, nrow(data), replace = TRUE))\n",
    "    \n",
    "    # Perform k-fold cross-validation\n",
    "    for (j in 1:k_fold) {\n",
    "      # Split data in k folds\n",
    "      data_val <- datalist[[j]]               # j-th of the k folds, validation set\n",
    "      data_train <- do.call(rbind, datalist[-j])   # Rest of the data without j-th of the k folds, training set\n",
    "      \n",
    "      train_X <- convert_to_numeric_matrix(data_train[, !colnames(data_train) %in% 'income'])\n",
    "      train_y <- data_train$income\n",
    "      \n",
    "      val_X <- convert_to_numeric_matrix(data_val[, !colnames(data_val) %in% 'income'])\n",
    "      val_y <- data_val$income\n",
    "      \n",
    "      train_dmatrix <- xgb.DMatrix(data = train_X, label = train_y)\n",
    "      val_dmatrix <- xgb.DMatrix(data = val_X, label = val_y)\n",
    "      \n",
    "      for (eta in eta_values) {\n",
    "        for (max_depth in max_depth_values) {\n",
    "          params <- list(\n",
    "            objective = if (is.factor(data$income)) \"multi:softprob\" else \"reg:squarederror\",\n",
    "            eta = eta,\n",
    "            max_depth = max_depth\n",
    "          )\n",
    "          if (is.factor(data$income)) {\n",
    "            params$num_class <- length(unique(data$income))\n",
    "          }\n",
    "          \n",
    "          model <- xgb.train(params = params, data = train_dmatrix, nrounds = 100, verbose = 0)\n",
    "          predictions <- predict(model, val_dmatrix)\n",
    "          \n",
    "          if (is.factor(data$income)) {\n",
    "            epsilon <- 1e-15\n",
    "            predicted_probs <- pmax(pmin(predictions, 1 - epsilon), epsilon)\n",
    "            n <- length(predicted_probs)\n",
    "            loss[j] <- -sum(as.numeric(val_y) * log(predicted_probs) + (1 - as.numeric(val_y)) * log(1 - predicted_probs)) / n\n",
    "          } else {\n",
    "            loss[j] <- mean((predictions - val_y)^2)\n",
    "          }\n",
    "        }\n",
    "      }\n",
    "    }\n",
    "    \n",
    "    mean_loss <- mean(loss)\n",
    "    \n",
    "    best_eta <- eta_values[which.min(loss)]\n",
    "    best_max_depth <- max_depth_values[which.min(loss)]\n",
    "    \n",
    "    best_params_list[[i]] <- list(eta = best_eta, max_depth = best_max_depth)\n",
    "    \n",
    "    final_params <- list(\n",
    "      objective = if (is.factor(data$income)) \"multi:softprob\" else \"reg:squarederror\",\n",
    "      eta = best_eta,\n",
    "      max_depth = best_max_depth,\n",
    "      num_class = if (is.factor(data$income)) length(unique(data$income)) else NULL\n",
    "    )\n",
    "    \n",
    "    final_model <- xgb.train(params = final_params, data = xgb.DMatrix(data = convert_to_numeric_matrix(data[, !colnames(data) %in% 'income']), label = data$income), nrounds = 100, verbose = 0)\n",
    "    final_predictions <- predict(final_model, xgb.DMatrix(data = convert_to_numeric_matrix(data[, !colnames(data) %in% 'income'])))\n",
    "    \n",
    "    # Evaluation metrics\n",
    "    if (is.factor(data$income)) {\n",
    "      eval <- as.data.frame(evaluation_metrics_factor(final_predictions, data$income))\n",
    "    } else {\n",
    "      eval <- as.data.frame(evaluation_metrics_cont(final_predictions, data$income))\n",
    "    }\n",
    "    \n",
    "    eval_list[[i]] <- eval\n",
    "    print(c(\"Run\", i, \"completed\"))\n",
    "  }\n",
    "  \n",
    "  # Average over all runs\n",
    "  sum_df <- Reduce(function(x, y) Map(`+`, x, y), eval_list)\n",
    "  eval_avg <- lapply(sum_df, function(col) col / length(eval_list))\n",
    "  \n",
    "  # Convert the list back to a dataframe\n",
    "  # Store row names\n",
    "  rownames <- row.names(eval_list[[1]])\n",
    "  \n",
    "  # Convert the list back to a dataframe\n",
    "  eval_avg <- as.data.frame(eval_avg)\n",
    "  \n",
    "  # Set back the row names\n",
    "  row.names(eval_avg) <- rownames\n",
    "  \n",
    "  # Returns\n",
    "  results <- list(eval_avg = eval_avg, best_params_list = best_params_list)\n",
    "  return(results)\n",
    "}"
   ]
  },
  {
   "cell_type": "code",
   "execution_count": 30,
   "metadata": {
    "vscode": {
     "languageId": "r"
    }
   },
   "outputs": [],
   "source": [
    "cps_res <- simulation_xgboost(cpspop)"
   ]
  },
  {
   "cell_type": "code",
   "execution_count": null,
   "metadata": {
    "vscode": {
     "languageId": "r"
    }
   },
   "outputs": [],
   "source": [
    "adult_res <- simulation(adult)"
   ]
  },
  {
   "cell_type": "markdown",
   "metadata": {},
   "source": [
    "### Save results"
   ]
  },
  {
   "cell_type": "code",
   "execution_count": null,
   "metadata": {
    "vscode": {
     "languageId": "r"
    }
   },
   "outputs": [],
   "source": [
    "# Bind results\n",
    "boosting_pred_results <- list(cps_res = cps_res, adult_res = adult_res)\n",
    "# File pth for output\n",
    "file <- \"/user/emma.foessing01/u11969/results/boosting_pred_results.RData\" \n",
    "dir.create(dirname(output_file), recursive = TRUE, showWarnings = FALSE) # create dir if not there\n",
    "# Save the results to an RData file \n",
    "save(results, file = output_file)"
   ]
  }
 ],
 "metadata": {
  "kernelspec": {
   "display_name": "R",
   "language": "R",
   "name": "ir"
  },
  "language_info": {
   "codemirror_mode": "r",
   "file_extension": ".r",
   "mimetype": "text/x-r-source",
   "name": "R",
   "pygments_lexer": "r",
   "version": "4.4.1"
  },
  "orig_nbformat": 4
 },
 "nbformat": 4,
 "nbformat_minor": 2
}
