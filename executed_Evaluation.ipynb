{
 "cells": [
  {
   "cell_type": "markdown",
   "metadata": {},
   "source": [
    "# Evaluation script"
   ]
  },
  {
   "cell_type": "markdown",
   "metadata": {},
   "source": [
    "## Load packages"
   ]
  },
  {
   "cell_type": "code",
   "execution_count": 1,
   "metadata": {
    "execution": {
     "iopub.execute_input": "2024-10-06T14:03:28.753677Z",
     "iopub.status.busy": "2024-10-06T14:03:28.747067Z",
     "iopub.status.idle": "2024-10-06T14:03:29.346807Z",
     "shell.execute_reply": "2024-10-06T14:03:29.340832Z"
    },
    "vscode": {
     "languageId": "r"
    }
   },
   "outputs": [
    {
     "name": "stderr",
     "output_type": "stream",
     "text": [
      "here() starts at /home/uni08/hpc/emma.foessing01/u11969/Master-Thesis\n",
      "\n"
     ]
    },
    {
     "name": "stderr",
     "output_type": "stream",
     "text": [
      "\n",
      "Attaching package: ‘dplyr’\n",
      "\n",
      "\n"
     ]
    },
    {
     "name": "stderr",
     "output_type": "stream",
     "text": [
      "The following objects are masked from ‘package:stats’:\n",
      "\n",
      "    filter, lag\n",
      "\n",
      "\n"
     ]
    },
    {
     "name": "stderr",
     "output_type": "stream",
     "text": [
      "The following objects are masked from ‘package:base’:\n",
      "\n",
      "    intersect, setdiff, setequal, union\n",
      "\n",
      "\n"
     ]
    },
    {
     "data": {
      "text/html": [
       "<ol>\n",
       "\t<li><style>\n",
       ".list-inline {list-style: none; margin:0; padding: 0}\n",
       ".list-inline>li {display: inline-block}\n",
       ".list-inline>li:not(:last-child)::after {content: \"\\00b7\"; padding: 0 .5ex}\n",
       "</style>\n",
       "<ol class=list-inline><li>'here'</li><li>'stats'</li><li>'graphics'</li><li>'grDevices'</li><li>'utils'</li><li>'datasets'</li><li>'methods'</li><li>'base'</li></ol>\n",
       "</li>\n",
       "\t<li><style>\n",
       ".list-inline {list-style: none; margin:0; padding: 0}\n",
       ".list-inline>li {display: inline-block}\n",
       ".list-inline>li:not(:last-child)::after {content: \"\\00b7\"; padding: 0 .5ex}\n",
       "</style>\n",
       "<ol class=list-inline><li>'dplyr'</li><li>'here'</li><li>'stats'</li><li>'graphics'</li><li>'grDevices'</li><li>'utils'</li><li>'datasets'</li><li>'methods'</li><li>'base'</li></ol>\n",
       "</li>\n",
       "</ol>\n"
      ],
      "text/latex": [
       "\\begin{enumerate}\n",
       "\\item \\begin{enumerate*}\n",
       "\\item 'here'\n",
       "\\item 'stats'\n",
       "\\item 'graphics'\n",
       "\\item 'grDevices'\n",
       "\\item 'utils'\n",
       "\\item 'datasets'\n",
       "\\item 'methods'\n",
       "\\item 'base'\n",
       "\\end{enumerate*}\n",
       "\n",
       "\\item \\begin{enumerate*}\n",
       "\\item 'dplyr'\n",
       "\\item 'here'\n",
       "\\item 'stats'\n",
       "\\item 'graphics'\n",
       "\\item 'grDevices'\n",
       "\\item 'utils'\n",
       "\\item 'datasets'\n",
       "\\item 'methods'\n",
       "\\item 'base'\n",
       "\\end{enumerate*}\n",
       "\n",
       "\\end{enumerate}\n"
      ],
      "text/markdown": [
       "1. 1. 'here'\n",
       "2. 'stats'\n",
       "3. 'graphics'\n",
       "4. 'grDevices'\n",
       "5. 'utils'\n",
       "6. 'datasets'\n",
       "7. 'methods'\n",
       "8. 'base'\n",
       "\n",
       "\n",
       "\n",
       "2. 1. 'dplyr'\n",
       "2. 'here'\n",
       "3. 'stats'\n",
       "4. 'graphics'\n",
       "5. 'grDevices'\n",
       "6. 'utils'\n",
       "7. 'datasets'\n",
       "8. 'methods'\n",
       "9. 'base'\n",
       "\n",
       "\n",
       "\n",
       "\n",
       "\n"
      ],
      "text/plain": [
       "[[1]]\n",
       "[1] \"here\"      \"stats\"     \"graphics\"  \"grDevices\" \"utils\"     \"datasets\" \n",
       "[7] \"methods\"   \"base\"     \n",
       "\n",
       "[[2]]\n",
       "[1] \"dplyr\"     \"here\"      \"stats\"     \"graphics\"  \"grDevices\" \"utils\"    \n",
       "[7] \"datasets\"  \"methods\"   \"base\"     \n"
      ]
     },
     "metadata": {},
     "output_type": "display_data"
    }
   ],
   "source": [
    "Sys.setenv(\"PKG_CXXFLAGS\"=\"-std=c++14\")\n",
    "\n",
    "# List of required packages\n",
    "list_of_packages <- c(\"here\", \"dplyr\")\n",
    "\n",
    "# Function to load packages and handle errors\n",
    "load_if_installed <- function(p) {\n",
    "  tryCatch({\n",
    "    library(p, character.only = TRUE)\n",
    "  }, error = function(e) {\n",
    "    message(sprintf(\"Package '%s' is not installed.\", p))\n",
    "  })\n",
    "}\n",
    "\n",
    "# Load all required packages\n",
    "lapply(list_of_packages, load_if_installed)"
   ]
  },
  {
   "cell_type": "markdown",
   "metadata": {},
   "source": [
    "## Load results"
   ]
  },
  {
   "cell_type": "code",
   "execution_count": 2,
   "metadata": {
    "execution": {
     "iopub.execute_input": "2024-10-06T14:03:29.437255Z",
     "iopub.status.busy": "2024-10-06T14:03:29.356361Z",
     "iopub.status.idle": "2024-10-06T14:03:29.717665Z",
     "shell.execute_reply": "2024-10-06T14:03:29.712423Z"
    },
    "vscode": {
     "languageId": "r"
    }
   },
   "outputs": [
    {
     "name": "stdout",
     "output_type": "stream",
     "text": [
      "Loaded data for: cps orig \n",
      "Loaded data for: cps cart \n",
      "Data does not exist for: cps rf \n",
      "Loaded data for: cps bn \n",
      "Loaded data for: cps xgb \n",
      "Data does not exist for: cps svm \n",
      "Loaded data for: adult orig \n",
      "Loaded data for: adult cart \n",
      "Data does not exist for: adult rf \n",
      "Loaded data for: adult bn \n",
      "Loaded data for: adult xgb \n",
      "Data does not exist for: adult svm \n"
     ]
    },
    {
     "name": "stdout",
     "output_type": "stream",
     "text": [
      "\n",
      "--- List of loaded dataframes ---\n"
     ]
    },
    {
     "name": "stdout",
     "output_type": "stream",
     "text": [
      "Data for: cps_orig \n",
      "$eval_regression_avg\n",
      "          MAE        MSE     RMSE R_squared     MAPE\n",
      "CART 27081.35 1728972408 41580.91 0.2699372 5346.312\n",
      "RF   25191.51 1611471960 40143.12 0.3343683 4432.881\n",
      "XGB  24894.57 1588800820 39859.04 0.3437388 4358.569\n",
      "SVM  25695.09 1847248426 42977.06 0.2371105 3634.983\n",
      "\n",
      "$eval_bn_avg\n",
      "   Accuracy        F1 Sensitivity Specificity\n",
      "1 0.9603824 0.9797909         0.2         0.8\n",
      "\n",
      "Data for: cps_cart \n",
      "$eval_regression_avg\n",
      "          MAE        MSE     RMSE R_squared     MAPE\n",
      "CART 27243.17 1843154279 42931.97 0.2630100 3661.599\n",
      "RF   25103.50 1607652084 40089.80 0.3436767 3891.644\n",
      "XGB  25009.23 1606703556 40083.65 0.3438721 3933.308\n",
      "SVM  25719.93 1886206959 43430.48 0.2296043 3540.986\n",
      "\n",
      "$eval_bn_avg\n",
      "   Accuracy        F1 Sensitivity Specificity\n",
      "1 0.9601506 0.9796702         0.2         0.8\n",
      "\n",
      "Data for: cps_bn \n",
      "$eval_regression_avg\n",
      "      Accuracy        F1 Sensitivity Specificity\n",
      "CART 0.9602298 0.9797115   0.2000000   0.8000000\n",
      "RF   0.9601910 0.7353345   0.2001093   0.8000974\n",
      "XGB  0.9601707 0.9796807   0.1999958   0.7999958\n",
      "SVM  0.9601910 0.9796912   0.2000000   0.8000000\n",
      "\n",
      "$eval_bn_avg\n",
      "   Accuracy        F1 Sensitivity Specificity\n",
      "1 0.9601676 0.9796791         0.2         0.8\n",
      "\n",
      "Data for: cps_xgb \n",
      "$eval_regression_avg\n",
      "          MAE        MSE     RMSE  R_squared MAPE\n",
      "CART 27456.89 1695126000 41171.91 0.31865405  NaN\n",
      "RF   26045.48 1579782669 39742.66 0.39611992  NaN\n",
      "XGB  25633.08 1570892044 39634.06 0.39983236  NaN\n",
      "SVM  30695.67 2581846124 50811.21 0.01378519  NaN\n",
      "\n",
      "$eval_bn_avg\n",
      "   Accuracy        F1 Sensitivity Specificity\n",
      "1 0.9402683 0.9692147   0.1666667   0.8333333\n",
      "\n",
      "Data for: adult_orig \n",
      "$eval_classification_avg\n",
      "      Accuracy        F1 Sensitivity Specificity\n",
      "CART 0.8539885 0.9062660   0.9397899   0.5950986\n",
      "RF   0.8597573 0.9097571   0.9412024   0.6140117\n",
      "XGB  0.8655593 0.9132304   0.9419529   0.6350559\n",
      "SVM  0.7803528 0.8673585   0.9512669   0.2646510\n",
      "BN   0.8288649 0.8898926   0.9212665   0.5505203\n",
      "\n",
      "Data for: adult_cart \n",
      "$eval_classification_avg\n",
      "      Accuracy        F1 Sensitivity Specificity\n",
      "CART 0.8470159 0.9044444   0.9619383   0.4973190\n",
      "RF   0.8588622 0.9100212   0.9482842   0.5867851\n",
      "XGB  0.8564087 0.9084830   0.9469629   0.5808893\n",
      "SVM  0.7829036 0.8692226   0.9533081   0.2644063\n",
      "BN   0.8304565 0.6123696   0.5413251   0.9255087\n",
      "\n",
      "Data for: adult_bn \n",
      "$eval_classification_avg\n",
      "      Accuracy        F1 Sensitivity Specificity\n",
      "CART 0.8302500 0.8924008   0.9364855   0.5086782\n",
      "RF   0.8338306 0.8942289   0.9344566   0.5292390\n",
      "XGB  0.8393011 0.8965224   0.9261203   0.5765020\n",
      "SVM  0.7967310 0.8697958   0.9026553   0.4761015\n",
      "BN   0.8184327 0.8830749   0.9126835   0.5338195\n",
      "\n",
      "Data for: adult_xgb \n",
      "$eval_classification_avg\n",
      "      Accuracy        F1 Sensitivity Specificity\n",
      "CART 0.8309906 0.8936898   0.9380965   0.4968588\n",
      "RF   0.8320403 0.8952352   0.9476381   0.4713835\n",
      "XGB  0.8337977 0.8957372   0.9429100   0.4933736\n",
      "SVM  0.7651681 0.8589431   0.9454028   0.2028134\n",
      "BN   0.8097310 0.8840163   0.9576311   0.3485114\n",
      "\n"
     ]
    }
   ],
   "source": [
    "datanames <- c(\"cps\", \"adult\")\n",
    "modelnames <- c(\"orig\", \"cart\", \"rf\", \"bn\", \"xgb\", \"svm\")\n",
    "\n",
    "loaded_data <- list()\n",
    "\n",
    "# Loop through all combinations of dataname and modelname\n",
    "for (dataname in datanames) {\n",
    "  for (modelname in modelnames) {\n",
    "    # Construct the file path\n",
    "    file_path <- paste0(here(), \"/results/\", dataname, \"_\", modelname, \"_res.RData\")\n",
    "    \n",
    "    # Check if the file exists\n",
    "    if (file.exists(file_path)) {\n",
    "      # Load the file if it exists\n",
    "      load(file = file_path)\n",
    "      \n",
    "      # Assign the loaded data to the list\n",
    "      loaded_data[[paste0(dataname, \"_\", modelname)]] <- get(ls()[1])\n",
    "      \n",
    "      cat(\"Loaded data for:\", dataname, modelname, \"\\n\")\n",
    "    } else {\n",
    "      # Print message if the file does not exist\n",
    "      cat(\"Data does not exist for:\", dataname, modelname, \"\\n\")\n",
    "    }\n",
    "  }\n",
    "}\n",
    "\n",
    "# Print all loaded dataframes\n",
    "cat(\"\\n--- List of loaded dataframes ---\\n\")\n",
    "for (name in names(loaded_data)) {\n",
    "  cat(\"Data for:\", name, \"\\n\")\n",
    "  print(loaded_data[[name]])\n",
    "}"
   ]
  },
  {
   "cell_type": "code",
   "execution_count": 3,
   "metadata": {
    "execution": {
     "iopub.execute_input": "2024-10-06T14:03:29.730969Z",
     "iopub.status.busy": "2024-10-06T14:03:29.726069Z",
     "iopub.status.idle": "2024-10-06T14:03:29.920751Z",
     "shell.execute_reply": "2024-10-06T14:03:29.915502Z"
    },
    "vscode": {
     "languageId": "r"
    }
   },
   "outputs": [
    {
     "name": "stdout",
     "output_type": "stream",
     "text": [
      "\n",
      "--- Regression Results (CPS Dataset) ---\n"
     ]
    },
    {
     "name": "stdout",
     "output_type": "stream",
     "text": [
      "     orig cart rf bn xgb svm\n",
      "orig   NA   NA NA NA  NA  NA\n",
      "cart   NA   NA NA NA  NA  NA\n",
      "rf     NA   NA NA NA  NA  NA\n",
      "bn     NA   NA NA NA  NA  NA\n",
      "xgb    NA   NA NA NA  NA  NA\n",
      "svm    NA   NA NA NA  NA  NA\n",
      "                                                                                         CART\n",
      "orig 27081.3492082474, 1728972407.68385, 41580.913983267, 0.269937192505549, 5346.31238234134\n",
      "cart  27243.1708662494, 1843154279.18516, 42931.972691517, 0.26301003814581, 3661.59947812589\n",
      "rf                                                                                       <NA>\n",
      "bn                                             0.960229801351297, 0.979711461063755, 0.2, 0.8\n",
      "xgb                  27456.8922085511, 1695125999.6769, 41171.907894545, 0.3186540495244, NaN\n",
      "svm                                                                                      <NA>\n",
      "                                                                                            RF\n",
      "orig 25191.5051777678, 1611471960.02314, 40143.1249759819, 0.334368338482898, 4432.88050663417\n",
      "cart 25103.4957043833, 1607652084.39266, 40089.8028473072, 0.343676749291347, 3891.64392602762\n",
      "rf                                                                                        <NA>\n",
      "bn                   0.960190953960676, 0.73533447244265, 0.200109294013186, 0.800097430857473\n",
      "xgb                 26045.482483397, 1579782668.87762, 39742.6614046942, 0.39611992318585, NaN\n",
      "svm                                                                                       <NA>\n",
      "                                                                                           XGB\n",
      "orig 24894.5711479295, 1588800819.82831, 39859.0359093008, 0.343738771475342, 4358.56918686612\n",
      "cart 25009.2344040663, 1606703556.21568, 40083.6530074183, 0.343872052605618, 3933.30761958246\n",
      "rf                                                                                        <NA>\n",
      "bn                  0.960170726540045, 0.979680711939482, 0.199995786635207, 0.799995804665212\n",
      "xgb               25633.0847807079, 1570892043.77586, 39634.0593355249, 0.399832361417603, NaN\n",
      "svm                                                                                       <NA>\n",
      "                                                                                           SVM\n",
      "orig  25695.0901213093, 1847248426.29287, 42977.064013502, 0.237110457172999, 3634.98340214974\n",
      "cart 25719.9316981399, 1886206959.49111, 43430.4840518568, 0.229604311389554, 3540.98600766218\n",
      "rf                                                                                        <NA>\n",
      "bn                                              0.960190953960676, 0.979691240815653, 0.2, 0.8\n",
      "xgb              30695.6698219355, 2581846123.94865, 50811.2068389406, 0.0137851884632939, NaN\n",
      "svm                                                                                       <NA>\n"
     ]
    },
    {
     "name": "stdout",
     "output_type": "stream",
     "text": [
      "\n",
      "--- Classification Results (Adult Dataset) ---\n"
     ]
    },
    {
     "name": "stdout",
     "output_type": "stream",
     "text": [
      "     orig cart rf bn xgb svm\n",
      "orig   NA   NA NA NA  NA  NA\n",
      "cart   NA   NA NA NA  NA  NA\n",
      "rf     NA   NA NA NA  NA  NA\n",
      "bn     NA   NA NA NA  NA  NA\n",
      "xgb    NA   NA NA NA  NA  NA\n",
      "svm    NA   NA NA NA  NA  NA\n",
      "                                                                           CART\n",
      "orig 0.853988462303561, 0.906265962880981, 0.939789882581443, 0.595098561534363\n",
      "cart 0.847015915119363, 0.904444352400282, 0.961938325991189, 0.497319034852547\n",
      "rf                                                                         <NA>\n",
      "bn      0.83024998342285, 0.892400806993948, 0.936485532815808, 0.5086782376502\n",
      "xgb   0.830990584803077, 0.89368978604496, 0.938096488923912, 0.496858781753619\n",
      "svm                                                                        <NA>\n",
      "                                                                             RF\n",
      "orig 0.859757310523175, 0.909757145807047, 0.941202436655778, 0.614011720831113\n",
      "cart    0.858862194363123, 0.9100211895487, 0.948284212573016, 0.58678505500254\n",
      "rf                                                                         <NA>\n",
      "bn   0.833830647835024, 0.894228855017989, 0.934456598447424, 0.529238985313752\n",
      "xgb   0.832040315628937, 0.89523519657872, 0.947638061419719, 0.471383494312372\n",
      "svm                                                                        <NA>\n",
      "                                                                            XGB\n",
      "orig 0.865559313042902, 0.913230446889086, 0.941952856007769, 0.635055940330314\n",
      "cart   0.85640872621179, 0.908483029643177, 0.94696289057573, 0.580889338870114\n",
      "rf                                                                         <NA>\n",
      "bn   0.839301107353624, 0.896522357014685, 0.926120324629499, 0.576502002670227\n",
      "xgb    0.833797706050426, 0.89573716774435, 0.942910028703999, 0.49337362660326\n",
      "svm                                                                        <NA>\n",
      "                                                                            SVM\n",
      "orig   0.780352761753199, 0.86735852988207, 0.95126688443542, 0.264651038891849\n",
      "cart 0.782903636952652, 0.869222571475693, 0.953308078583385, 0.264406325381935\n",
      "rf                                                                         <NA>\n",
      "bn    0.796730986008885, 0.869795782487082, 0.90265525758645, 0.476101468624833\n",
      "xgb  0.765168092301572, 0.858943054200277, 0.945402802101576, 0.202813438951106\n",
      "svm                                                                        <NA>\n",
      "                                                                             BN\n",
      "orig 0.828864922205991, 0.889892634889117, 0.921266473844935, 0.550520255863539\n",
      "cart  0.830456532462887, 0.612369611347141, 0.541325090781339, 0.92550867689389\n",
      "rf                                                                         <NA>\n",
      "bn   0.818432675391593, 0.883074927784109, 0.912683459184542, 0.533819460131014\n",
      "xgb  0.809730968616443, 0.884016334733311, 0.957631087424881, 0.348511420693194\n",
      "svm                                                                        <NA>\n"
     ]
    }
   ],
   "source": [
    "# Define the names of the datasets and models\n",
    "datanames <- c(\"cps\", \"adult\")\n",
    "modelnames <- c(\"orig\", \"cart\", \"rf\", \"bn\", \"xgb\", \"svm\")\n",
    "\n",
    "# Initialize empty lists for storing regression and classification tables\n",
    "regression_results <- list()\n",
    "classification_results <- list()\n",
    "\n",
    "# Define performance metrics for regression and classification\n",
    "regression_metrics <- c(\"MAE\", \"MSE\", \"RMSE\", \"R_squared\", \"MAPE\")\n",
    "classification_metrics <- c(\"Accuracy\", \"F1\", \"Sensitivity\", \"Specificity\")\n",
    "\n",
    "# Initialize tables as data frames with the correct structure\n",
    "regression_table <- data.frame(matrix(ncol = length(modelnames), nrow = length(modelnames)))\n",
    "colnames(regression_table) <- modelnames\n",
    "rownames(regression_table) <- modelnames\n",
    "\n",
    "classification_table <- data.frame(matrix(ncol = length(modelnames), nrow = length(modelnames)))\n",
    "colnames(classification_table) <- modelnames\n",
    "rownames(classification_table) <- modelnames\n",
    "\n",
    "# Iterate over all loaded data and extract relevant metrics\n",
    "for (dataname in datanames) {\n",
    "  for (modelname in modelnames) {\n",
    "    df_name <- paste0(dataname, \"_\", modelname)\n",
    "    \n",
    "    if (!is.null(loaded_data[[df_name]])) {\n",
    "      data <- loaded_data[[df_name]]\n",
    "      \n",
    "      # For the 'cps' dataset (regression task)\n",
    "      if (dataname == \"cps\") {\n",
    "        if (!is.null(data$eval_regression_avg)) {\n",
    "          # Extract regression metrics\n",
    "          regression_metrics_values <- data$eval_regression_avg\n",
    "          # Add them to the regression table\n",
    "          regression_table[modelname, \"CART\"] <- paste(regression_metrics_values[\"CART\", ], collapse = \", \")\n",
    "          regression_table[modelname, \"RF\"] <- paste(regression_metrics_values[\"RF\", ], collapse = \", \")\n",
    "          regression_table[modelname, \"XGB\"] <- paste(regression_metrics_values[\"XGB\", ], collapse = \", \")\n",
    "          regression_table[modelname, \"SVM\"] <- paste(regression_metrics_values[\"SVM\", ], collapse = \", \")\n",
    "        }\n",
    "      }\n",
    "      \n",
    "      # For the 'adult' dataset (classification task)\n",
    "      if (dataname == \"adult\") {\n",
    "        if (!is.null(data$eval_classification_avg)) {\n",
    "          # Extract classification metrics\n",
    "          classification_metrics_values <- data$eval_classification_avg\n",
    "          # Add them to the classification table\n",
    "          classification_table[modelname, \"CART\"] <- paste(classification_metrics_values[\"CART\", ], collapse = \", \")\n",
    "          classification_table[modelname, \"RF\"] <- paste(classification_metrics_values[\"RF\", ], collapse = \", \")\n",
    "          classification_table[modelname, \"XGB\"] <- paste(classification_metrics_values[\"XGB\", ], collapse = \", \")\n",
    "          classification_table[modelname, \"SVM\"] <- paste(classification_metrics_values[\"SVM\", ], collapse = \", \")\n",
    "          classification_table[modelname, \"BN\"] <- paste(classification_metrics_values[\"BN\", ], collapse = \", \")\n",
    "        }\n",
    "      }\n",
    "    }\n",
    "  }\n",
    "}\n",
    "\n",
    "# Print the tables\n",
    "cat(\"\\n--- Regression Results (CPS Dataset) ---\\n\")\n",
    "print(regression_table)\n",
    "\n",
    "cat(\"\\n--- Classification Results (Adult Dataset) ---\\n\")\n",
    "print(classification_table)"
   ]
  }
 ],
 "metadata": {
  "language_info": {
   "codemirror_mode": "r",
   "file_extension": ".r",
   "mimetype": "text/x-r-source",
   "name": "R",
   "pygments_lexer": "r",
   "version": "4.3.3"
  }
 },
 "nbformat": 4,
 "nbformat_minor": 2
}
