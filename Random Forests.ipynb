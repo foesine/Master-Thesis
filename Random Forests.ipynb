{
 "cells": [
  {
   "cell_type": "markdown",
   "metadata": {},
   "source": [
    "# Random Forests\n",
    "\n",
    "Link: https://medium.com/@gideonadele/using-random-forests-to-generate-partially-synthetic-categorical-data-4d2b6a664988\n",
    "Source: J. Reiter and G. Caiola (2010) Random Forests for Generating Partially Synthetic, Categorical Data. Transactions on data privacy. <br>\n",
    "randomForest documentation: https://cran.r-project.org/web/packages/randomForest/randomForest.pdf\n"
   ]
  },
  {
   "cell_type": "code",
   "execution_count": 8,
   "metadata": {
    "vscode": {
     "languageId": "r"
    }
   },
   "outputs": [
    {
     "data": {
      "text/html": [
       "<ol>\n",
       "\t<li>TRUE</li>\n",
       "\t<li>TRUE</li>\n",
       "\t<li>TRUE</li>\n",
       "\t<li>TRUE</li>\n",
       "\t<li>TRUE</li>\n",
       "\t<li>TRUE</li>\n",
       "\t<li>TRUE</li>\n",
       "\t<li>TRUE</li>\n",
       "\t<li>TRUE</li>\n",
       "\t<li>TRUE</li>\n",
       "\t<li>TRUE</li>\n",
       "\t<li>TRUE</li>\n",
       "\t<li>TRUE</li>\n",
       "\t<li>TRUE</li>\n",
       "\t<li>TRUE</li>\n",
       "</ol>\n"
      ],
      "text/latex": [
       "\\begin{enumerate}\n",
       "\\item TRUE\n",
       "\\item TRUE\n",
       "\\item TRUE\n",
       "\\item TRUE\n",
       "\\item TRUE\n",
       "\\item TRUE\n",
       "\\item TRUE\n",
       "\\item TRUE\n",
       "\\item TRUE\n",
       "\\item TRUE\n",
       "\\item TRUE\n",
       "\\item TRUE\n",
       "\\item TRUE\n",
       "\\item TRUE\n",
       "\\item TRUE\n",
       "\\end{enumerate}\n"
      ],
      "text/markdown": [
       "1. TRUE\n",
       "2. TRUE\n",
       "3. TRUE\n",
       "4. TRUE\n",
       "5. TRUE\n",
       "6. TRUE\n",
       "7. TRUE\n",
       "8. TRUE\n",
       "9. TRUE\n",
       "10. TRUE\n",
       "11. TRUE\n",
       "12. TRUE\n",
       "13. TRUE\n",
       "14. TRUE\n",
       "15. TRUE\n",
       "\n",
       "\n"
      ],
      "text/plain": [
       "[[1]]\n",
       "[1] TRUE\n",
       "\n",
       "[[2]]\n",
       "[1] TRUE\n",
       "\n",
       "[[3]]\n",
       "[1] TRUE\n",
       "\n",
       "[[4]]\n",
       "[1] TRUE\n",
       "\n",
       "[[5]]\n",
       "[1] TRUE\n",
       "\n",
       "[[6]]\n",
       "[1] TRUE\n",
       "\n",
       "[[7]]\n",
       "[1] TRUE\n",
       "\n",
       "[[8]]\n",
       "[1] TRUE\n",
       "\n",
       "[[9]]\n",
       "[1] TRUE\n",
       "\n",
       "[[10]]\n",
       "[1] TRUE\n",
       "\n",
       "[[11]]\n",
       "[1] TRUE\n",
       "\n",
       "[[12]]\n",
       "[1] TRUE\n",
       "\n",
       "[[13]]\n",
       "[1] TRUE\n",
       "\n",
       "[[14]]\n",
       "[1] TRUE\n",
       "\n",
       "[[15]]\n",
       "[1] TRUE\n"
      ]
     },
     "metadata": {},
     "output_type": "display_data"
    }
   ],
   "source": [
    "list_of_packages <- c (\"synthpop\", \"insight\", \"party\", \"dplyr\", \"rpart\", \"rpart.plot\", \"randomForest\", \"pROC\", \"caret\", \"pracma\", \"here\", \"Hmisc\", \"arf\", \"randomForest\", \"caret\")\n",
    "\n",
    "lapply(list_of_packages, FUN= function(X){\n",
    "  do.call(\"require\", list(X))\n",
    "})"
   ]
  },
  {
   "cell_type": "markdown",
   "metadata": {},
   "source": [
    "## Data"
   ]
  },
  {
   "cell_type": "code",
   "execution_count": 1,
   "metadata": {
    "vscode": {
     "languageId": "r"
    }
   },
   "outputs": [
    {
     "ename": "ERROR",
     "evalue": "Error in here(): konnte Funktion \"here\" nicht finden\n",
     "output_type": "error",
     "traceback": [
      "Error in here(): konnte Funktion \"here\" nicht finden\nTraceback:\n",
      "1. load(file = (paste0(here(), \"/cpspop.RData\")))",
      "2. paste0(here(), \"/cpspop.RData\")"
     ]
    }
   ],
   "source": [
    "load(file = (paste0(here(), \"/cpspop.RData\")))\n",
    "adult <- read.csv(file = (paste0(here(),\"/adult_preprocessed.csv\")))\n",
    "# delete NAs\n",
    "adult[adult == \"?\"] <- NA\n",
    "adult <- na.omit(adult)\n",
    "\n",
    "adult$workclass <- as.factor(adult$workclass)\n",
    "adult$education <- as.factor(adult$education)\n",
    "adult$marital_status <- as.factor(adult$marital_status)\n",
    "adult$relationship <- as.factor(adult$relationship)\n",
    "adult$race <- as.factor(adult$race)\n",
    "adult$sex <- as.factor(adult$sex)\n",
    "adult$native_country <- as.factor(adult$native_country)\n",
    "adult$income <- as.factor(adult$income)"
   ]
  },
  {
   "cell_type": "markdown",
   "metadata": {},
   "source": [
    "## Synthetic data"
   ]
  },
  {
   "cell_type": "code",
   "execution_count": 4,
   "metadata": {
    "vscode": {
     "languageId": "r"
    }
   },
   "outputs": [],
   "source": [
    "generate_synthetic_rf <- function(data, n_synthetic) {\n",
    "  if (!is.data.frame(data)) {\n",
    "    stop(\"Data must be a dataframe.\")\n",
    "  }\n",
    "  if (n_synthetic <= 0 || !is.numeric(n_synthetic)) {\n",
    "    stop(\"Number of synthetic samples must be a positive integer.\")\n",
    "  }\n",
    "\n",
    "  # Initialize an empty dataframe with appropriate dimensions\n",
    "  synthetic_data <- data.frame(matrix(ncol = ncol(data), nrow = n_synthetic))\n",
    "  names(synthetic_data) <- names(data)\n",
    "\n",
    "  for (i in seq_along(data)) {\n",
    "    # Set the current column as the target variable\n",
    "    target_var <- data[, i]\n",
    "    predictor_vars <- data[, -i, drop = FALSE]\n",
    "    \n",
    "    # Check for sufficient data\n",
    "    if (ncol(predictor_vars) == 0) {\n",
    "      stop(\"Not enough predictor variables.\")\n",
    "    }\n",
    "\n",
    "    # Train a Random Forest model\n",
    "    rf_model <- randomForest(predictor_vars, target_var, ntree=100)\n",
    "\n",
    "    # Generate synthetic data\n",
    "    if (is.numeric(target_var)) {\n",
    "      synthetic_data[, i] <- predict(rf_model, newdata = synthetic_data[, -i, drop = FALSE])\n",
    "    } else if (is.factor(target_var)) {\n",
    "      predicted_probs <- predict(rf_model, newdata = synthetic_data[, -i, drop = FALSE], type = \"prob\")\n",
    "      levels <- levels(target_var)\n",
    "      synthetic_scaled_probs <- sweep(predicted_probs, 1, rowSums(predicted_probs), FUN=\"/\")\n",
    "      synthetic_data[, i] <- apply(synthetic_scaled_probs, 1, function(p) sample(levels, 1, prob = p))\n",
    "    }\n",
    "  }\n",
    "  \n",
    "  return(synthetic_data)\n",
    "}"
   ]
  },
  {
   "cell_type": "markdown",
   "metadata": {},
   "source": [
    "## Reasons for long time computing syn data\n",
    "Complexity of the Random Forest Model: Random Forest is an ensemble method that builds multiple decision trees (specified by the ntree parameter) for each variable in the dataset. Each tree is built on a bootstrap sample of the data, and at each node in these trees, a subset of the predictors is randomly chosen to split on. This process is computationally expensive, especially with larger datasets and a higher number of trees.\n",
    "\n",
    "Multiple Models: For each variable in the dataset, a separate Random Forest model is trained using all other variables as predictors. This means if you have a dataset with many variables, you will need to train a significant number of Random Forest models. If your dataset has, say, 30 variables, and you decide to use 100 trees per model, you are essentially building 3,000 trees.\n",
    "\n",
    "Data Size and Dimensionality: The size (number of rows) and the number of variables (columns) in your dataset greatly impact the computation time. Larger datasets or those with many features require more time to build each tree and, consequently, each model.\n",
    "\n",
    "Handling Factor Variables: If the target variable is a factor (categorical), the model not only has to calculate the probabilities for each category for each case but also needs to handle these during the prediction phase, which can add overhead, especially when sampling from these predicted probabilities to generate synthetic data."
   ]
  },
  {
   "cell_type": "markdown",
   "metadata": {},
   "source": [
    "## Adversarial random forest"
   ]
  },
  {
   "cell_type": "code",
   "execution_count": 5,
   "metadata": {
    "vscode": {
     "languageId": "r"
    }
   },
   "outputs": [],
   "source": [
    "data <- cpspop\n",
    "\n",
    "arf_syn <- function(data) {\n",
    "  # Train the adversarial random forest\n",
    "  arf_model <- adversarial_rf(\n",
    "    x = data,\n",
    "    num_trees = 100L,\n",
    "    min_node_size = 2L,\n",
    "    delta = 0,\n",
    "    max_iters = 10L,\n",
    "    early_stop = TRUE,\n",
    "    prune = TRUE,\n",
    "    verbose = TRUE,\n",
    "    parallel = TRUE\n",
    "  )\n",
    "\n",
    "  # Estimate leaf and distribution parameters\n",
    "  psi <- forde(\n",
    "    arf = arf_model, \n",
    "    x = data, \n",
    "    oob = FALSE,\n",
    "    family = \"truncnorm\",\n",
    "    finite_bounds = FALSE,\n",
    "    alpha = 0,\n",
    "    epsilon = 0,\n",
    "    parallel = TRUE\n",
    "  )\n",
    "\n",
    "  synthetic_data <- forge(psi, nrow(data))\n",
    "  return(synthetic_data)\n",
    "}"
   ]
  },
  {
   "cell_type": "code",
   "execution_count": 6,
   "metadata": {
    "vscode": {
     "languageId": "r"
    }
   },
   "outputs": [
    {
     "name": "stderr",
     "output_type": "stream",
     "text": [
      "Warning message in prep_x(x):\n",
      "\"Recoding integers with more than 5 unique values as numeric. To override this behavior, explicitly code these variables as factors.\"\n"
     ]
    },
    {
     "name": "stdout",
     "output_type": "stream",
     "text": [
      "Iteration: 0, Accuracy: 76.47%\n",
      "Iteration: 1, Accuracy: 35.96%\n"
     ]
    },
    {
     "name": "stderr",
     "output_type": "stream",
     "text": [
      "Warning message:\n",
      "\"executing %dopar% sequentially: no parallel backend registered\"\n"
     ]
    }
   ],
   "source": [
    "syn_cps <- arf_syn(cpspop)"
   ]
  },
  {
   "cell_type": "code",
   "execution_count": null,
   "metadata": {
    "vscode": {
     "languageId": "r"
    }
   },
   "outputs": [
    {
     "name": "stderr",
     "output_type": "stream",
     "text": [
      "Warning message in prep_x(x):\n",
      "\"Recoding integers with more than 5 unique values as numeric. To override this behavior, explicitly code these variables as factors.\"\n"
     ]
    },
    {
     "name": "stdout",
     "output_type": "stream",
     "text": [
      "Iteration: 0, Accuracy: 86.25%\n",
      "Iteration: 1, Accuracy: 41.12%\n"
     ]
    }
   ],
   "source": [
    "syn_adult <- arf_syn(adult)"
   ]
  },
  {
   "cell_type": "code",
   "execution_count": 7,
   "metadata": {
    "vscode": {
     "languageId": "r"
    }
   },
   "outputs": [],
   "source": [
    "rf_model <- randomForest(income ~ ., data = cpspop)"
   ]
  },
  {
   "cell_type": "markdown",
   "metadata": {},
   "source": [
    "## Simulation"
   ]
  },
  {
   "cell_type": "markdown",
   "metadata": {},
   "source": [
    "### Helper functions"
   ]
  },
  {
   "cell_type": "code",
   "execution_count": null,
   "metadata": {
    "vscode": {
     "languageId": "r"
    }
   },
   "outputs": [],
   "source": [
    "evaluation_metrics_cont <- function(predictions, test_set){\n",
    "  MAE <- mean(abs(predictions - test_set$income))\n",
    "  MSE <- mean((predictions - test_set$income)^2)\n",
    "  RMSE <- sqrt(MSE)\n",
    "\n",
    "  SS_res <- sum((test_set$income - predictions)^2)\n",
    "  SS_tot <- sum((test_set$income - mean(test_set$income))^2)\n",
    "  R_squared <- 1 - (SS_res / SS_tot)\n",
    "\n",
    "  MAPE <- mean(abs((test_set$income - predictions) / test_set$income)) * 100\n",
    "\n",
    "  # Create the dataframe\n",
    "  metrics_df <- data.frame(\n",
    "        MAE = MAE, \n",
    "        MSE = MSE, \n",
    "        RMSE = RMSE,\n",
    "        R_squared = R_squared, \n",
    "        MAPE = MAPE)\n",
    "\n",
    "  return(metrics_df)\n",
    "}"
   ]
  },
  {
   "cell_type": "code",
   "execution_count": null,
   "metadata": {
    "vscode": {
     "languageId": "r"
    }
   },
   "outputs": [],
   "source": [
    "## Calculate evaluation metrics for factored targets\n",
    "evaluation_metrics_factor <- function(predictions, test_set){\n",
    "    # confusion matrix for the prediction on original data\n",
    "    cm <- confusionMatrix(predictions, test_set$income,\n",
    "                mode = \"everything\")\n",
    "\n",
    "    # saving evaluation metrics\n",
    "    accuracy <- cm$overall['Accuracy']\n",
    "    f1 <- cm$byClass['F1']\n",
    "    sens <- cm$byClass['Sensitivity']\n",
    "    spec <- cm$byClass['Specificity']\n",
    "\n",
    "    # Create the dataframe\n",
    "    metrics_df <- data.frame(\n",
    "        Accuracy = accuracy, \n",
    "        F1 = f1, \n",
    "        Sensitivity = sens, \n",
    "        Specificity = spec\n",
    "    )\n",
    "    \n",
    "    return(metrics_df)\n",
    "}"
   ]
  },
  {
   "cell_type": "code",
   "execution_count": 12,
   "metadata": {
    "vscode": {
     "languageId": "r"
    }
   },
   "outputs": [],
   "source": [
    "rf_simulation <- function(data, nrun = 10, kfold = 10, steps_mtry = 5, steps_ntree = 5) {\n",
    "\n",
    "    # create empty list to store evaluation dataframes\n",
    "    eval_list <- list()\n",
    "\n",
    "    # set inital seed\n",
    "    s <- 1234\n",
    "    for (i in 1:nrun){\n",
    "        # vary seed with each run\n",
    "        s <- s + 1\n",
    "        set.seed(s)\n",
    "\n",
    "        # generate synthetic data\n",
    "        gen_data <- arf_syn(data)\n",
    "        \n",
    "        # Split the data into training and testing sets\n",
    "        trainIndex <- createDataPartition(data$income, p = .8, \n",
    "                                            list = FALSE, \n",
    "                                            times = 1)\n",
    "        trainData <- data[ trainIndex,]\n",
    "        testData  <- data[-trainIndex,]\n",
    "        \n",
    "        # define control for CV\n",
    "        control <- trainControl(method = \"cv\", number = kfold)\n",
    "\n",
    "        # Define the parameter grid for tuning\n",
    "        tunegrid <- expand.grid(mtry = seq(2, ncol(trainData) - 1, length.out = steps_mtry))\n",
    "        ntree_values <- seq(100, 1000, length.out = steps_ntree)\n",
    "\n",
    "        # Fit the random forest model\n",
    "        rf_model <- randomForest(income ~ ., data = trainData)\n",
    "\n",
    "        results <- list()\n",
    "        for (ntree in ntree_values) {\n",
    "            set.seed(123)\n",
    "            rf_model <- train(income ~ ., data = trainData, \n",
    "                                method = \"rf\", \n",
    "                                trControl = control, \n",
    "                                tuneGrid = tunegrid, \n",
    "                                ntree = ntree)\n",
    "            results[[paste0(\"ntree_\", ntree)]] <- rf_model\n",
    "            }\n",
    "        best_model <- results[[which.max(sapply(results, function(x) max(x$results$Accuracy)))]]\n",
    "\n",
    "        # Make predictions on the test set\n",
    "        predictions <- predict(best_model, newdata = testData)\n",
    "\n",
    "        # Evaluate the model performance\n",
    "        # evaluation metrics\n",
    "        if (is.numeric(data$income)) {\n",
    "            eval <- as.data.frame(evaluation_metrics_cont(predictions, testData))\n",
    "            }\n",
    "        else if (is.factor(data$income)) {\n",
    "            eval <- as.data.frame(evaluation_metrics_factor(predictions, testData))\n",
    "            }\n",
    "        else {\n",
    "            break(\"The predicted target has to be numeric or factor.\")\n",
    "            }\n",
    "\n",
    "        eval_list[[i]] <- eval\n",
    "        print(c(\"run\", i, \"completed\"))\n",
    "        }\n",
    "\n",
    "    # outside the nruns loop\n",
    "    # average over all runs\n",
    "    sum_df <- Reduce(function(x, y) Map(`+`, x, y), eval_list)\n",
    "    eval_avg <- lapply(sum_df, function(col) col / length(eval_list))\n",
    "\n",
    "    # Convert the list back to a dataframe\n",
    "    # Store row names\n",
    "    rownames <- row.names(eval_list[[1]])\n",
    "\n",
    "    # Convert the list back to a dataframe\n",
    "    eval_avg <- as.data.frame(eval_avg)\n",
    "\n",
    "    # Set back the row names\n",
    "    rownames(eval_avg) <- row.names(eval_list[[1]])\n",
    "\n",
    "    # Return the average evaluation metrics\n",
    "    return(eval_avg)\n",
    "    }\n"
   ]
  },
  {
   "cell_type": "code",
   "execution_count": 13,
   "metadata": {
    "vscode": {
     "languageId": "r"
    }
   },
   "outputs": [
    {
     "name": "stderr",
     "output_type": "stream",
     "text": [
      "Warning message in prep_x(x):\n",
      "\"Recoding integers with more than 5 unique values as numeric. To override this behavior, explicitly code these variables as factors.\"\n"
     ]
    },
    {
     "name": "stdout",
     "output_type": "stream",
     "text": [
      "Iteration: 0, Accuracy: 76.46%\n",
      "Iteration: 1, Accuracy: 35.93%\n"
     ]
    }
   ],
   "source": [
    "cps_res <- rf_simulation(cpspop)"
   ]
  }
 ],
 "metadata": {
  "kernelspec": {
   "display_name": "R",
   "language": "R",
   "name": "ir"
  },
  "language_info": {
   "codemirror_mode": "r",
   "file_extension": ".r",
   "mimetype": "text/x-r-source",
   "name": "R",
   "pygments_lexer": "r",
   "version": "4.3.1"
  },
  "orig_nbformat": 4
 },
 "nbformat": 4,
 "nbformat_minor": 2
}
