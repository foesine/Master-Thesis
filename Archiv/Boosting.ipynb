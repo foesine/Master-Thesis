{
 "cells": [
  {
   "cell_type": "markdown",
   "metadata": {},
   "source": [
    "# Boosting\n"
   ]
  },
  {
   "cell_type": "code",
   "execution_count": 1,
   "metadata": {
    "vscode": {
     "languageId": "r"
    }
   },
   "outputs": [
    {
     "name": "stdout",
     "output_type": "stream",
     "text": [
      "\n",
      "Die heruntergeladenen Bin\"arpakete sind in \n",
      "\t/var/folders/kj/dkjqkk2n3wq2zfbttgdpjrj80000gn/T//RtmpAyOwuu/downloaded_packages\n"
     ]
    }
   ],
   "source": [
    "install.packages(\"data.table\")"
   ]
  },
  {
   "cell_type": "code",
   "execution_count": 2,
   "metadata": {
    "vscode": {
     "languageId": "r"
    }
   },
   "outputs": [
    {
     "name": "stderr",
     "output_type": "stream",
     "text": [
      "Lade n\"otiges Paket: synthpop\n",
      "\n",
      "Find out more at https://www.synthpop.org.uk/\n",
      "\n",
      "Lade n\"otiges Paket: insight\n",
      "\n",
      "Lade n\"otiges Paket: party\n",
      "\n",
      "Lade n\"otiges Paket: grid\n",
      "\n",
      "Lade n\"otiges Paket: mvtnorm\n",
      "\n",
      "Lade n\"otiges Paket: modeltools\n",
      "\n",
      "Lade n\"otiges Paket: stats4\n",
      "\n",
      "Lade n\"otiges Paket: strucchange\n",
      "\n",
      "Lade n\"otiges Paket: zoo\n",
      "\n",
      "\n",
      "Attache Paket: 'zoo'\n",
      "\n",
      "\n",
      "Die folgenden Objekte sind maskiert von 'package:base':\n",
      "\n",
      "    as.Date, as.Date.numeric\n",
      "\n",
      "\n",
      "Lade n\"otiges Paket: sandwich\n",
      "\n",
      "Lade n\"otiges Paket: dplyr\n",
      "\n",
      "\n",
      "Attache Paket: 'dplyr'\n",
      "\n",
      "\n",
      "Das folgende Objekt ist maskiert 'package:party':\n",
      "\n",
      "    where\n",
      "\n",
      "\n",
      "Die folgenden Objekte sind maskiert von 'package:stats':\n",
      "\n",
      "    filter, lag\n",
      "\n",
      "\n",
      "Die folgenden Objekte sind maskiert von 'package:base':\n",
      "\n",
      "    intersect, setdiff, setequal, union\n",
      "\n",
      "\n",
      "Lade n\"otiges Paket: rpart\n",
      "\n",
      "Lade n\"otiges Paket: rpart.plot\n",
      "\n",
      "Lade n\"otiges Paket: randomForest\n",
      "\n",
      "randomForest 4.7-1.1\n",
      "\n",
      "Type rfNews() to see new features/changes/bug fixes.\n",
      "\n",
      "\n",
      "Attache Paket: 'randomForest'\n",
      "\n",
      "\n",
      "Das folgende Objekt ist maskiert 'package:dplyr':\n",
      "\n",
      "    combine\n",
      "\n",
      "\n",
      "Lade n\"otiges Paket: pROC\n",
      "\n",
      "Type 'citation(\"pROC\")' for a citation.\n",
      "\n",
      "\n",
      "Attache Paket: 'pROC'\n",
      "\n",
      "\n",
      "Die folgenden Objekte sind maskiert von 'package:stats':\n",
      "\n",
      "    cov, smooth, var\n",
      "\n",
      "\n",
      "Lade n\"otiges Paket: caret\n",
      "\n",
      "Lade n\"otiges Paket: ggplot2\n",
      "\n",
      "\n",
      "Attache Paket: 'ggplot2'\n",
      "\n",
      "\n",
      "Das folgende Objekt ist maskiert 'package:randomForest':\n",
      "\n",
      "    margin\n",
      "\n",
      "\n",
      "Lade n\"otiges Paket: lattice\n",
      "\n",
      "Lade n\"otiges Paket: pracma\n",
      "\n",
      "Lade n\"otiges Paket: here\n",
      "\n",
      "here() starts at /Users/emmafoessing/Documents/Master/MA/Code/Master-Thesis\n",
      "\n",
      "Lade n\"otiges Paket: Hmisc\n",
      "\n",
      "\n",
      "Attache Paket: 'Hmisc'\n",
      "\n",
      "\n",
      "Das folgende Objekt ist maskiert 'package:pracma':\n",
      "\n",
      "    ceil\n",
      "\n",
      "\n",
      "Die folgenden Objekte sind maskiert von 'package:dplyr':\n",
      "\n",
      "    src, summarize\n",
      "\n",
      "\n",
      "Die folgenden Objekte sind maskiert von 'package:base':\n",
      "\n",
      "    format.pval, units\n",
      "\n",
      "\n",
      "Lade n\"otiges Paket: arf\n",
      "\n",
      "Warning message in library(package, lib.loc = lib.loc, character.only = TRUE, logical.return = TRUE, :\n",
      "\"es gibt kein Paket namens 'arf'\"\n",
      "Lade n\"otiges Paket: xgboost\n",
      "\n",
      "Warning message in library(package, lib.loc = lib.loc, character.only = TRUE, logical.return = TRUE, :\n",
      "\"es gibt kein Paket namens 'xgboost'\"\n",
      "Lade n\"otiges Paket: data.table\n",
      "\n",
      "\n",
      "Attache Paket: 'data.table'\n",
      "\n",
      "\n",
      "Die folgenden Objekte sind maskiert von 'package:dplyr':\n",
      "\n",
      "    between, first, last\n",
      "\n",
      "\n",
      "Die folgenden Objekte sind maskiert von 'package:zoo':\n",
      "\n",
      "    yearmon, yearqtr\n",
      "\n",
      "\n"
     ]
    },
    {
     "data": {
      "text/html": [
       "<ol>\n",
       "\t<li>TRUE</li>\n",
       "\t<li>TRUE</li>\n",
       "\t<li>TRUE</li>\n",
       "\t<li>TRUE</li>\n",
       "\t<li>TRUE</li>\n",
       "\t<li>TRUE</li>\n",
       "\t<li>TRUE</li>\n",
       "\t<li>TRUE</li>\n",
       "\t<li>TRUE</li>\n",
       "\t<li>TRUE</li>\n",
       "\t<li>TRUE</li>\n",
       "\t<li>TRUE</li>\n",
       "\t<li>FALSE</li>\n",
       "\t<li>TRUE</li>\n",
       "\t<li>TRUE</li>\n",
       "\t<li>FALSE</li>\n",
       "\t<li>TRUE</li>\n",
       "</ol>\n"
      ],
      "text/latex": [
       "\\begin{enumerate}\n",
       "\\item TRUE\n",
       "\\item TRUE\n",
       "\\item TRUE\n",
       "\\item TRUE\n",
       "\\item TRUE\n",
       "\\item TRUE\n",
       "\\item TRUE\n",
       "\\item TRUE\n",
       "\\item TRUE\n",
       "\\item TRUE\n",
       "\\item TRUE\n",
       "\\item TRUE\n",
       "\\item FALSE\n",
       "\\item TRUE\n",
       "\\item TRUE\n",
       "\\item FALSE\n",
       "\\item TRUE\n",
       "\\end{enumerate}\n"
      ],
      "text/markdown": [
       "1. TRUE\n",
       "2. TRUE\n",
       "3. TRUE\n",
       "4. TRUE\n",
       "5. TRUE\n",
       "6. TRUE\n",
       "7. TRUE\n",
       "8. TRUE\n",
       "9. TRUE\n",
       "10. TRUE\n",
       "11. TRUE\n",
       "12. TRUE\n",
       "13. FALSE\n",
       "14. TRUE\n",
       "15. TRUE\n",
       "16. FALSE\n",
       "17. TRUE\n",
       "\n",
       "\n"
      ],
      "text/plain": [
       "[[1]]\n",
       "[1] TRUE\n",
       "\n",
       "[[2]]\n",
       "[1] TRUE\n",
       "\n",
       "[[3]]\n",
       "[1] TRUE\n",
       "\n",
       "[[4]]\n",
       "[1] TRUE\n",
       "\n",
       "[[5]]\n",
       "[1] TRUE\n",
       "\n",
       "[[6]]\n",
       "[1] TRUE\n",
       "\n",
       "[[7]]\n",
       "[1] TRUE\n",
       "\n",
       "[[8]]\n",
       "[1] TRUE\n",
       "\n",
       "[[9]]\n",
       "[1] TRUE\n",
       "\n",
       "[[10]]\n",
       "[1] TRUE\n",
       "\n",
       "[[11]]\n",
       "[1] TRUE\n",
       "\n",
       "[[12]]\n",
       "[1] TRUE\n",
       "\n",
       "[[13]]\n",
       "[1] FALSE\n",
       "\n",
       "[[14]]\n",
       "[1] TRUE\n",
       "\n",
       "[[15]]\n",
       "[1] TRUE\n",
       "\n",
       "[[16]]\n",
       "[1] FALSE\n",
       "\n",
       "[[17]]\n",
       "[1] TRUE\n"
      ]
     },
     "metadata": {},
     "output_type": "display_data"
    }
   ],
   "source": [
    "list_of_packages <- c (\"synthpop\", \"insight\", \"party\", \"dplyr\", \"rpart\", \"rpart.plot\", \"randomForest\", \"pROC\", \"caret\", \"pracma\", \"here\", \"Hmisc\", \"arf\", \"randomForest\", \"caret\", \"xgboost\", \"data.table\")\n",
    "\n",
    "lapply(list_of_packages, FUN= function(X){\n",
    "  do.call(\"require\", list(X))\n",
    "})"
   ]
  },
  {
   "cell_type": "markdown",
   "metadata": {},
   "source": [
    "## Data"
   ]
  },
  {
   "cell_type": "code",
   "execution_count": 3,
   "metadata": {
    "vscode": {
     "languageId": "r"
    }
   },
   "outputs": [],
   "source": [
    "load(file = (paste0(here(), \"/cpspop.RData\")))\n",
    "adult <- read.csv(file = (paste0(here(),\"/adult_preprocessed.csv\")))\n",
    "# delete NAs\n",
    "adult[adult == \"?\"] <- NA\n",
    "adult <- na.omit(adult)\n",
    "\n",
    "adult$workclass <- as.factor(adult$workclass)\n",
    "adult$education <- as.factor(adult$education)\n",
    "adult$marital_status <- as.factor(adult$marital_status)\n",
    "adult$relationship <- as.factor(adult$relationship)\n",
    "adult$race <- as.factor(adult$race)\n",
    "adult$sex <- as.factor(adult$sex)\n",
    "adult$native_country <- as.factor(adult$native_country)\n",
    "adult$income <- as.factor(adult$income)"
   ]
  },
  {
   "cell_type": "code",
   "execution_count": 9,
   "metadata": {
    "vscode": {
     "languageId": "r"
    }
   },
   "outputs": [
    {
     "data": {
      "text/html": [
       "<table class=\"dataframe\">\n",
       "<caption>A data.frame: 6 x 14</caption>\n",
       "<thead>\n",
       "\t<tr><th></th><th scope=col>age</th><th scope=col>workclass</th><th scope=col>fnlwgt</th><th scope=col>education</th><th scope=col>marital_status</th><th scope=col>occupation</th><th scope=col>relationship</th><th scope=col>race</th><th scope=col>sex</th><th scope=col>capital_gain</th><th scope=col>capital_loss</th><th scope=col>hours_per_week</th><th scope=col>native_country</th><th scope=col>income</th></tr>\n",
       "\t<tr><th></th><th scope=col>&lt;int&gt;</th><th scope=col>&lt;fct&gt;</th><th scope=col>&lt;int&gt;</th><th scope=col>&lt;fct&gt;</th><th scope=col>&lt;fct&gt;</th><th scope=col>&lt;int&gt;</th><th scope=col>&lt;fct&gt;</th><th scope=col>&lt;fct&gt;</th><th scope=col>&lt;fct&gt;</th><th scope=col>&lt;int&gt;</th><th scope=col>&lt;int&gt;</th><th scope=col>&lt;int&gt;</th><th scope=col>&lt;fct&gt;</th><th scope=col>&lt;fct&gt;</th></tr>\n",
       "</thead>\n",
       "<tbody>\n",
       "\t<tr><th scope=row>1</th><td>82</td><td>2</td><td>132870</td><td>11</td><td>6</td><td>3</td><td>1</td><td>4</td><td>0</td><td>0</td><td>4356</td><td>18</td><td>38</td><td>&lt;=50K</td></tr>\n",
       "\t<tr><th scope=row>2</th><td>54</td><td>2</td><td>140359</td><td>5 </td><td>0</td><td>6</td><td>4</td><td>4</td><td>0</td><td>0</td><td>3900</td><td>40</td><td>38</td><td>&lt;=50K</td></tr>\n",
       "\t<tr><th scope=row>3</th><td>41</td><td>2</td><td>264663</td><td>15</td><td>5</td><td>9</td><td>3</td><td>4</td><td>0</td><td>0</td><td>3900</td><td>40</td><td>38</td><td>&lt;=50K</td></tr>\n",
       "\t<tr><th scope=row>4</th><td>34</td><td>2</td><td>216864</td><td>11</td><td>0</td><td>7</td><td>4</td><td>4</td><td>0</td><td>0</td><td>3770</td><td>45</td><td>38</td><td>&lt;=50K</td></tr>\n",
       "\t<tr><th scope=row>5</th><td>38</td><td>2</td><td>150601</td><td>0 </td><td>5</td><td>0</td><td>4</td><td>4</td><td>1</td><td>0</td><td>3770</td><td>40</td><td>38</td><td>&lt;=50K</td></tr>\n",
       "\t<tr><th scope=row>6</th><td>74</td><td>5</td><td> 88638</td><td>10</td><td>4</td><td>9</td><td>2</td><td>4</td><td>0</td><td>0</td><td>3683</td><td>20</td><td>38</td><td>&gt;50K </td></tr>\n",
       "</tbody>\n",
       "</table>\n"
      ],
      "text/latex": [
       "A data.frame: 6 x 14\n",
       "\\begin{tabular}{r|llllllllllllll}\n",
       "  & age & workclass & fnlwgt & education & marital\\_status & occupation & relationship & race & sex & capital\\_gain & capital\\_loss & hours\\_per\\_week & native\\_country & income\\\\\n",
       "  & <int> & <fct> & <int> & <fct> & <fct> & <int> & <fct> & <fct> & <fct> & <int> & <int> & <int> & <fct> & <fct>\\\\\n",
       "\\hline\n",
       "\t1 & 82 & 2 & 132870 & 11 & 6 & 3 & 1 & 4 & 0 & 0 & 4356 & 18 & 38 & <=50K\\\\\n",
       "\t2 & 54 & 2 & 140359 & 5  & 0 & 6 & 4 & 4 & 0 & 0 & 3900 & 40 & 38 & <=50K\\\\\n",
       "\t3 & 41 & 2 & 264663 & 15 & 5 & 9 & 3 & 4 & 0 & 0 & 3900 & 40 & 38 & <=50K\\\\\n",
       "\t4 & 34 & 2 & 216864 & 11 & 0 & 7 & 4 & 4 & 0 & 0 & 3770 & 45 & 38 & <=50K\\\\\n",
       "\t5 & 38 & 2 & 150601 & 0  & 5 & 0 & 4 & 4 & 1 & 0 & 3770 & 40 & 38 & <=50K\\\\\n",
       "\t6 & 74 & 5 &  88638 & 10 & 4 & 9 & 2 & 4 & 0 & 0 & 3683 & 20 & 38 & >50K \\\\\n",
       "\\end{tabular}\n"
      ],
      "text/markdown": [
       "\n",
       "A data.frame: 6 x 14\n",
       "\n",
       "| <!--/--> | age &lt;int&gt; | workclass &lt;fct&gt; | fnlwgt &lt;int&gt; | education &lt;fct&gt; | marital_status &lt;fct&gt; | occupation &lt;int&gt; | relationship &lt;fct&gt; | race &lt;fct&gt; | sex &lt;fct&gt; | capital_gain &lt;int&gt; | capital_loss &lt;int&gt; | hours_per_week &lt;int&gt; | native_country &lt;fct&gt; | income &lt;fct&gt; |\n",
       "|---|---|---|---|---|---|---|---|---|---|---|---|---|---|---|\n",
       "| 1 | 82 | 2 | 132870 | 11 | 6 | 3 | 1 | 4 | 0 | 0 | 4356 | 18 | 38 | &lt;=50K |\n",
       "| 2 | 54 | 2 | 140359 | 5  | 0 | 6 | 4 | 4 | 0 | 0 | 3900 | 40 | 38 | &lt;=50K |\n",
       "| 3 | 41 | 2 | 264663 | 15 | 5 | 9 | 3 | 4 | 0 | 0 | 3900 | 40 | 38 | &lt;=50K |\n",
       "| 4 | 34 | 2 | 216864 | 11 | 0 | 7 | 4 | 4 | 0 | 0 | 3770 | 45 | 38 | &lt;=50K |\n",
       "| 5 | 38 | 2 | 150601 | 0  | 5 | 0 | 4 | 4 | 1 | 0 | 3770 | 40 | 38 | &lt;=50K |\n",
       "| 6 | 74 | 5 |  88638 | 10 | 4 | 9 | 2 | 4 | 0 | 0 | 3683 | 20 | 38 | &gt;50K  |\n",
       "\n"
      ],
      "text/plain": [
       "  age workclass fnlwgt education marital_status occupation relationship race\n",
       "1 82  2         132870 11        6              3          1            4   \n",
       "2 54  2         140359 5         0              6          4            4   \n",
       "3 41  2         264663 15        5              9          3            4   \n",
       "4 34  2         216864 11        0              7          4            4   \n",
       "5 38  2         150601 0         5              0          4            4   \n",
       "6 74  5          88638 10        4              9          2            4   \n",
       "  sex capital_gain capital_loss hours_per_week native_country income\n",
       "1 0   0            4356         18             38             <=50K \n",
       "2 0   0            3900         40             38             <=50K \n",
       "3 0   0            3900         40             38             <=50K \n",
       "4 0   0            3770         45             38             <=50K \n",
       "5 1   0            3770         40             38             <=50K \n",
       "6 0   0            3683         20             38             >50K  "
      ]
     },
     "metadata": {},
     "output_type": "display_data"
    }
   ],
   "source": [
    "head(adult)"
   ]
  },
  {
   "cell_type": "markdown",
   "metadata": {},
   "source": [
    "### Helper functions"
   ]
  },
  {
   "cell_type": "code",
   "execution_count": 6,
   "metadata": {
    "vscode": {
     "languageId": "r"
    }
   },
   "outputs": [],
   "source": [
    "## eval cont targets\n",
    "evaluation_metrics_cont <- function(predictions, test_set){\n",
    "  MAE <- mean(abs(predictions - test_set$income))\n",
    "  MSE <- mean((predictions - test_set$income)^2)\n",
    "  RMSE <- sqrt(MSE)\n",
    "\n",
    "  SS_res <- sum((test_set$income - predictions)^2)\n",
    "  SS_tot <- sum((test_set$income - mean(test_set$income))^2)\n",
    "  R_squared <- 1 - (SS_res / SS_tot)\n",
    "\n",
    "  MAPE <- mean(abs((test_set$income - predictions) / test_set$income)) * 100\n",
    "\n",
    "  # Create the dataframe\n",
    "  metrics_df <- data.frame(\n",
    "        MAE = MAE, \n",
    "        MSE = MSE, \n",
    "        RMSE = RMSE,\n",
    "        R_squared = R_squared, \n",
    "        MAPE = MAPE)\n",
    "\n",
    "  return(metrics_df)\n",
    "}"
   ]
  },
  {
   "cell_type": "code",
   "execution_count": 7,
   "metadata": {
    "vscode": {
     "languageId": "r"
    }
   },
   "outputs": [],
   "source": [
    "## eval factored targets\n",
    "evaluation_metrics_factor <- function(predictions, test_set){\n",
    "    # confusion matrix for the prediction on original data\n",
    "    cm <- confusionMatrix(predictions, test_set$income,\n",
    "                mode = \"everything\")\n",
    "\n",
    "    # saving evaluation metrics\n",
    "    accuracy <- cm$overall['Accuracy']\n",
    "    f1 <- cm$byClass['F1']\n",
    "    sens <- cm$byClass['Sensitivity']\n",
    "    spec <- cm$byClass['Specificity']\n",
    "\n",
    "    # Create the dataframe\n",
    "    metrics_df <- data.frame(\n",
    "        Accuracy = accuracy, \n",
    "        F1 = f1, \n",
    "        Sensitivity = sens, \n",
    "        Specificity = spec\n",
    "    )\n",
    "    \n",
    "    return(metrics_df)\n",
    "}"
   ]
  },
  {
   "cell_type": "code",
   "execution_count": 4,
   "metadata": {
    "vscode": {
     "languageId": "r"
    }
   },
   "outputs": [],
   "source": [
    "convert_to_numeric_matrix <- function(df) {\n",
    "  # Convert factors to numeric\n",
    "  df[] <- lapply(df, function(col) {\n",
    "    if (is.factor(col)) {\n",
    "      return(as.numeric(col))\n",
    "    } else {\n",
    "      return(col)\n",
    "    }\n",
    "  })\n",
    "  \n",
    "  # Convert the entire data frame to a matrix\n",
    "  matrix_data <- as.matrix(df)\n",
    "  return(matrix_data)\n",
    "}"
   ]
  },
  {
   "cell_type": "code",
   "execution_count": 5,
   "metadata": {
    "vscode": {
     "languageId": "r"
    }
   },
   "outputs": [],
   "source": [
    "cps_matrix <- convert_to_numeric_matrix(cpspop)\n",
    "adult_matrix <- convert_to_numeric_matrix(adult)"
   ]
  },
  {
   "cell_type": "code",
   "execution_count": 19,
   "metadata": {
    "vscode": {
     "languageId": "r"
    }
   },
   "outputs": [
    {
     "name": "stdout",
     "output_type": "stream",
     "text": [
      "       tax csp age educ marital race sex    ss   income\n",
      "48035 1800   0  37    9       1    1   1     0 68356.65\n",
      "40955  125   0  39   13       1    1   2     0 76002.25\n",
      "25483    0   0  48   11       5    1   2     0 34738.66\n",
      "49967  324   0  59    9       1    1   1 13326 43434.59\n",
      "41719    0   0  25   10       1    1   2     0 43361.99\n",
      "25519  900   0  61    9       1    1   1     0 58998.41\n"
     ]
    }
   ],
   "source": [
    "target_col <- 'income'\n",
    "target_col_index <- which(colnames(cps_matrix) == target_col)\n",
    "\n",
    "# Split the data into features (X) and target (y)\n",
    "X <- cps_matrix[, -target_col_index]\n",
    "y <- cps_matrix[, target_col_index]\n",
    "\n",
    "# Convert to DMatrix\n",
    "dtrain <- xgb.DMatrix(data = X, label = y)\n",
    "\n",
    "# Set parameters for XGBoost\n",
    "params <- list(\n",
    "  objective = \"reg:squarederror\",  # Use \"reg:squarederror\" for regression tasks or change accordingly\n",
    "  max_depth = 3,\n",
    "  eta = 0.1\n",
    ")\n",
    "\n",
    "# Train the model\n",
    "bst_model <- xgb.train(params = params, data = dtrain, nrounds = 100)\n",
    "\n",
    "syn_xgb <- function(model, X, n_samples) {\n",
    "  synthetic_data <- list()\n",
    "  for (i in 1:n_samples) {\n",
    "    # Sample a random row from the feature matrix\n",
    "    random_sample <- X[sample(1:nrow(X), 1), , drop = FALSE]\n",
    "    \n",
    "    # Predict the target variable for the sampled row\n",
    "    prediction <- predict(model, xgb.DMatrix(data = random_sample))\n",
    "    \n",
    "    # Combine the random sample with the predicted target\n",
    "    synthetic_sample <- as.data.frame(random_sample)\n",
    "    synthetic_sample$income <- prediction  # Rename the target column to 'income'\n",
    "    \n",
    "    # Append to the list\n",
    "    synthetic_data[[i]] <- synthetic_sample\n",
    "  }\n",
    "  \n",
    "  # Combine all synthetic samples into a data frame\n",
    "  synthetic_df <- do.call(rbind, synthetic_data)\n",
    "  return(synthetic_df)\n",
    "}"
   ]
  },
  {
   "cell_type": "code",
   "execution_count": null,
   "metadata": {
    "vscode": {
     "languageId": "r"
    }
   },
   "outputs": [],
   "source": [
    "# Generate synthetic data\n",
    "syn_cps <- syn_xgb(bst_model, X, nrow(cpspop))\n",
    "\n",
    "print(head(synthetic_data))"
   ]
  }
 ],
 "metadata": {
  "kernelspec": {
   "display_name": "R",
   "language": "R",
   "name": "ir"
  },
  "language_info": {
   "codemirror_mode": "r",
   "file_extension": ".r",
   "mimetype": "text/x-r-source",
   "name": "R",
   "pygments_lexer": "r",
   "version": "4.4.1"
  },
  "orig_nbformat": 4
 },
 "nbformat": 4,
 "nbformat_minor": 2
}
